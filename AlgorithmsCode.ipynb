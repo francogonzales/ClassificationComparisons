{
  "nbformat": 4,
  "nbformat_minor": 0,
  "metadata": {
    "colab": {
      "name": "Final Project Code",
      "version": "0.3.2",
      "provenance": [],
      "collapsed_sections": [],
      "toc_visible": true
    },
    "kernelspec": {
      "name": "python3",
      "display_name": "Python 3"
    },
    "accelerator": "GPU"
  },
  "cells": [
    {
      "cell_type": "code",
      "metadata": {
        "id": "TwzPe3bIctWl",
        "colab_type": "code",
        "colab": {}
      },
      "source": [
        "# Algorithms\n",
        "from sklearn.neighbors import KNeighborsClassifier\n",
        "from sklearn.gaussian_process import GaussianProcessClassifier\n",
        "from sklearn.discriminant_analysis import LinearDiscriminantAnalysis\n",
        "from sklearn.svm import SVC\n",
        "from sklearn import tree\n",
        "from sklearn.ensemble import RandomForestClassifier\n",
        "from sklearn.linear_model import SGDClassifier\n",
        "from sklearn.naive_bayes import GaussianNB\n",
        "\n",
        "# Performance\n",
        "from sklearn.model_selection import train_test_split\n",
        "import time\n",
        "from sklearn.metrics import accuracy_score\n",
        "\n",
        "def test_algorithms(classes, features, name_dataset):\n",
        "    '''\n",
        "    This function will take in data and run through three classification algorithms: \n",
        "    K-nearest neighbor, Gaussian Process Classifier, Linear Discriminant Analysis, and Support Vector Machine.\n",
        "    It will return the time it took for the algorithm to run through the data,\n",
        "    as well as the accuracy of the data. The data inputed is assumed to already have\n",
        "    been processed for matrix operations.\n",
        "    '''\n",
        "    x_train, x_test, y_train, y_test = train_test_split(features, classes, random_state = 0)\n",
        "    \n",
        "    # Algorithm classifiers\n",
        "    knn = KNeighborsClassifier()\n",
        "    gpc = GaussianProcessClassifier()\n",
        "    lda = LinearDiscriminantAnalysis()\n",
        "    svm = SVC()\n",
        "    dt = tree.DecisionTreeClassifier()\n",
        "    rnf = RandomForestClassifier(n_estimators=100, max_depth=2,random_state=0)\n",
        "    gradDescent = SGDClassifier(penalty=None)\n",
        "    naiveBayes = GaussianNB()\n",
        "    \n",
        "    # K-nearest neighbor\n",
        "    start_time_knn = time.time()\n",
        "\n",
        "    knn.fit(x_train, y_train)\n",
        "    knn_pred = knn.predict(x_test)\n",
        "    knn_score =  accuracy_score(y_test, knn_pred)\n",
        "\n",
        "    end_time_knn = time.time() - start_time_knn\n",
        "\n",
        "    # Gaussian Process Classifier\n",
        "    start_time_gpc = time.time()\n",
        "\n",
        "    gpc.fit(x_train, y_train)\n",
        "    gpc_pred = gpc.predict(x_test)\n",
        "    gpc_score = accuracy_score(y_test, gpc_pred)\n",
        "\n",
        "    end_time_gpc = time.time() - start_time_gpc\n",
        "\n",
        "    # Linear-discriminant analysis\n",
        "    start_time_lda = time.time()\n",
        "\n",
        "    lda.fit(x_train, y_train)\n",
        "    lda_pred = lda.predict(x_test)\n",
        "    lda_score = accuracy_score(y_test, lda_pred)\n",
        "\n",
        "    end_time_lda = time.time() - start_time_lda\n",
        "\n",
        "    # Support Vector Machine\n",
        "    start_time_svm = time.time()\n",
        "\n",
        "    svm.fit(x_train, y_train)\n",
        "    svm_pred = lda.predict(x_test)\n",
        "    svm_score = accuracy_score(y_test, lda_pred)\n",
        "\n",
        "    end_time_svm = time.time() - start_time_lda\n",
        "    \n",
        "    # Decision Tree\n",
        "    start_time_dt = time.time()\n",
        "    \n",
        "    dt.fit(x_train, y_train)\n",
        "    dt_score = dt.score(x_test, y_test)\n",
        "    \n",
        "    end_time_dt = time.time() - start_time_dt\n",
        "    \n",
        "    # Random Forest\n",
        "    start_time_rnf = time.time()\n",
        "    \n",
        "    rnf.fit(x_train, y_train)\n",
        "    rnf_score = rnf.score(x_test, y_test)\n",
        "    \n",
        "    end_time_rnf = time.time() - start_time_rnf\n",
        "    \n",
        "    # Gradient Descent\n",
        "    start_time_gd = time.time()\n",
        "    gradDescent.fit(x_train, y_train)\n",
        "    gd_score = gradDescent.score(x_test, y_test)\n",
        "    end_time_gd = time.time() - start_time_gd\n",
        "    \n",
        "    # Naive Bayes\n",
        "    start_time_NB = time.time()\n",
        "    naiveBayes.fit(x_train,y_train)\n",
        "    NB_score = naiveBayes.score(x_test, y_test)\n",
        "    end_time_NB = time.time() - start_time_NB\n",
        "    \n",
        "    return { 'Dataset': name_dataset,\n",
        "    'KNN Accuracy': knn_score, 'KNN Time': end_time_knn, \n",
        "    'GPC Accuracy': gpc_score, 'GPC Time': end_time_gpc, \n",
        "    'LDA Accuracy': lda_score, 'LDA Time': end_time_lda, \n",
        "    'SVM Accuracy': svm_score, 'SVM Time': end_time_svm,\n",
        "    'Decision Tree Accuracy': dt_score, 'DT Time': end_time_dt,\n",
        "    'Random Forest Accuracy': rnf_score, 'RNF Time': end_time_rnf,\n",
        "    'Gradient Descent Accuracy': gd_score, 'GD Time': end_time_gd,\n",
        "    'Naive Bayes Accuracy':NB_score, 'NB Time': end_time_NB}"
      ],
      "execution_count": 0,
      "outputs": []
    },
    {
      "cell_type": "markdown",
      "metadata": {
        "id": "40vJq4ccc94m",
        "colab_type": "text"
      },
      "source": [
        "# **Mushroom Dataset**"
      ]
    },
    {
      "cell_type": "code",
      "metadata": {
        "id": "Ok8DM5qFc3lM",
        "colab_type": "code",
        "colab": {}
      },
      "source": [
        "import pandas as pd\n",
        "mushrooms = pd.read_csv('mushrooms.csv')"
      ],
      "execution_count": 0,
      "outputs": []
    },
    {
      "cell_type": "code",
      "metadata": {
        "id": "Z9oMB5bvdFEP",
        "colab_type": "code",
        "colab": {}
      },
      "source": [
        "from sklearn.preprocessing import LabelEncoder\n",
        "\n",
        "# label encode mushroom data\n",
        "labelencoder = LabelEncoder()\n",
        "mushrooms = mushrooms.apply(labelencoder.fit_transform)\n",
        "\n",
        "mushroom_features = mushrooms.iloc[:,1:]\n",
        "mushroom_labels = mushrooms.iloc[:,0]"
      ],
      "execution_count": 0,
      "outputs": []
    },
    {
      "cell_type": "code",
      "metadata": {
        "id": "ARme8RPQdWVp",
        "colab_type": "code",
        "outputId": "5cdc81f3-67c2-44ca-a2d6-5a7ec2d29fc9",
        "colab": {
          "base_uri": "https://localhost:8080/",
          "height": 105
        }
      },
      "source": [
        "mushroom_test = test_algorithms(mushroom_labels, mushroom_features, \"Mushroom\")"
      ],
      "execution_count": 0,
      "outputs": [
        {
          "output_type": "stream",
          "text": [
            "/usr/local/lib/python3.6/dist-packages/sklearn/discriminant_analysis.py:388: UserWarning: Variables are collinear.\n",
            "  warnings.warn(\"Variables are collinear.\")\n",
            "/usr/local/lib/python3.6/dist-packages/sklearn/svm/base.py:193: FutureWarning: The default value of gamma will change from 'auto' to 'scale' in version 0.22 to account better for unscaled features. Set gamma explicitly to 'auto' or 'scale' to avoid this warning.\n",
            "  \"avoid this warning.\", FutureWarning)\n"
          ],
          "name": "stderr"
        }
      ]
    },
    {
      "cell_type": "code",
      "metadata": {
        "id": "UhHZJggadX6S",
        "colab_type": "code",
        "outputId": "f618a5dd-0fb8-4e80-99bd-c07cf73c18d6",
        "colab": {
          "base_uri": "https://localhost:8080/",
          "height": 306
        }
      },
      "source": [
        "mushroom_test"
      ],
      "execution_count": 0,
      "outputs": [
        {
          "output_type": "execute_result",
          "data": {
            "text/plain": [
              "{'DT Time': 0.016743183135986328,\n",
              " 'Dataset': 'Mushroom',\n",
              " 'Decision Tree Accuracy': 1.0,\n",
              " 'GD Time': 0.034300804138183594,\n",
              " 'GPC Accuracy': 0.999015263417036,\n",
              " 'GPC Time': 73.07799530029297,\n",
              " 'Gradient Descent Accuracy': 0.9113737075332349,\n",
              " 'KNN Accuracy': 0.9960610536681438,\n",
              " 'KNN Time': 0.19102787971496582,\n",
              " 'LDA Accuracy': 0.946824224519941,\n",
              " 'LDA Time': 0.0440976619720459,\n",
              " 'NB Time': 0.009251594543457031,\n",
              " 'Naive Bayes Accuracy': 0.914327917282127,\n",
              " 'RNF Time': 0.2532999515533447,\n",
              " 'Random Forest Accuracy': 0.9241752831117676,\n",
              " 'SVM Accuracy': 0.946824224519941,\n",
              " 'SVM Time': 0.4822402000427246}"
            ]
          },
          "metadata": {
            "tags": []
          },
          "execution_count": 5
        }
      ]
    },
    {
      "cell_type": "markdown",
      "metadata": {
        "id": "ia6ZDgSegdrm",
        "colab_type": "text"
      },
      "source": [
        "# **Wine Dataset**"
      ]
    },
    {
      "cell_type": "code",
      "metadata": {
        "id": "NPAw-1bNgTaQ",
        "colab_type": "code",
        "colab": {}
      },
      "source": [
        "# set features and labels wine data\n",
        "Wine = pd.read_csv('winequality-red.csv')\n",
        "wine_features = Wine.iloc[:,:-1]\n",
        "wine_labels = Wine.iloc[:,-1]"
      ],
      "execution_count": 0,
      "outputs": []
    },
    {
      "cell_type": "code",
      "metadata": {
        "id": "M5AjfEgogVtJ",
        "colab_type": "code",
        "outputId": "b75a7c63-2201-49d0-e7e6-4f83cc0dc25c",
        "colab": {
          "base_uri": "https://localhost:8080/",
          "height": 71
        }
      },
      "source": [
        "wine_test = test_algorithms(wine_labels, wine_features, \"Wine\")"
      ],
      "execution_count": 0,
      "outputs": [
        {
          "output_type": "stream",
          "text": [
            "/usr/local/lib/python3.6/dist-packages/sklearn/svm/base.py:193: FutureWarning: The default value of gamma will change from 'auto' to 'scale' in version 0.22 to account better for unscaled features. Set gamma explicitly to 'auto' or 'scale' to avoid this warning.\n",
            "  \"avoid this warning.\", FutureWarning)\n"
          ],
          "name": "stderr"
        }
      ]
    },
    {
      "cell_type": "code",
      "metadata": {
        "id": "veyCnUxyglWV",
        "colab_type": "code",
        "outputId": "d3db4e2f-2907-4947-c71e-93e09fff3575",
        "colab": {
          "base_uri": "https://localhost:8080/",
          "height": 306
        }
      },
      "source": [
        "wine_test"
      ],
      "execution_count": 0,
      "outputs": [
        {
          "output_type": "execute_result",
          "data": {
            "text/plain": [
              "{'DT Time': 0.01874566078186035,\n",
              " 'Dataset': 'Wine',\n",
              " 'Decision Tree Accuracy': 0.63,\n",
              " 'GD Time': 0.0272674560546875,\n",
              " 'GPC Accuracy': 0.5675,\n",
              " 'GPC Time': 12.004950761795044,\n",
              " 'Gradient Descent Accuracy': 0.2125,\n",
              " 'KNN Accuracy': 0.47,\n",
              " 'KNN Time': 0.029713153839111328,\n",
              " 'LDA Accuracy': 0.6075,\n",
              " 'LDA Time': 0.009282827377319336,\n",
              " 'NB Time': 0.004277706146240234,\n",
              " 'Naive Bayes Accuracy': 0.55,\n",
              " 'RNF Time': 0.15863418579101562,\n",
              " 'Random Forest Accuracy': 0.59,\n",
              " 'SVM Accuracy': 0.6075,\n",
              " 'SVM Time': 0.20502376556396484}"
            ]
          },
          "metadata": {
            "tags": []
          },
          "execution_count": 8
        }
      ]
    },
    {
      "cell_type": "markdown",
      "metadata": {
        "id": "cQDZclkZhHKQ",
        "colab_type": "text"
      },
      "source": [
        "# **Spam Dataset**"
      ]
    },
    {
      "cell_type": "code",
      "metadata": {
        "id": "5U-k-gwZgpml",
        "colab_type": "code",
        "colab": {}
      },
      "source": [
        "# set features and labels for spam data\n",
        "spambase = pd.read_csv(\"spambase.data\", header=None)\n",
        "spam_features= spambase.iloc[:,:-1]\n",
        "spam_labels = spambase.iloc[:,-1]"
      ],
      "execution_count": 0,
      "outputs": []
    },
    {
      "cell_type": "code",
      "metadata": {
        "id": "UjJYi8zMgra9",
        "colab_type": "code",
        "outputId": "e500e540-485f-45e7-e595-66e881b7070f",
        "colab": {
          "base_uri": "https://localhost:8080/",
          "height": 71
        }
      },
      "source": [
        "spam_test = test_algorithms(spam_labels, spam_features, \"Spam\")"
      ],
      "execution_count": 0,
      "outputs": [
        {
          "output_type": "stream",
          "text": [
            "/usr/local/lib/python3.6/dist-packages/sklearn/svm/base.py:193: FutureWarning: The default value of gamma will change from 'auto' to 'scale' in version 0.22 to account better for unscaled features. Set gamma explicitly to 'auto' or 'scale' to avoid this warning.\n",
            "  \"avoid this warning.\", FutureWarning)\n"
          ],
          "name": "stderr"
        }
      ]
    },
    {
      "cell_type": "code",
      "metadata": {
        "id": "Jgecfk0shBiz",
        "colab_type": "code",
        "outputId": "70005607-450d-4855-ce57-cfe46d5055b7",
        "colab": {
          "base_uri": "https://localhost:8080/",
          "height": 306
        }
      },
      "source": [
        "spam_test"
      ],
      "execution_count": 0,
      "outputs": [
        {
          "output_type": "execute_result",
          "data": {
            "text/plain": [
              "{'DT Time': 0.11284017562866211,\n",
              " 'Dataset': 'Spam',\n",
              " 'Decision Tree Accuracy': 0.8992180712423979,\n",
              " 'GD Time': 0.03357553482055664,\n",
              " 'GPC Accuracy': 0.8036490008688097,\n",
              " 'GPC Time': 59.581509828567505,\n",
              " 'Gradient Descent Accuracy': 0.8670721112076455,\n",
              " 'KNN Accuracy': 0.8140747176368376,\n",
              " 'KNN Time': 0.08610391616821289,\n",
              " 'LDA Accuracy': 0.8731537793223284,\n",
              " 'LDA Time': 0.07596731185913086,\n",
              " 'NB Time': 0.014357805252075195,\n",
              " 'Naive Bayes Accuracy': 0.8027801911381407,\n",
              " 'RNF Time': 0.23218369483947754,\n",
              " 'Random Forest Accuracy': 0.8766290182450044,\n",
              " 'SVM Accuracy': 0.8731537793223284,\n",
              " 'SVM Time': 1.1981496810913086}"
            ]
          },
          "metadata": {
            "tags": []
          },
          "execution_count": 11
        }
      ]
    },
    {
      "cell_type": "markdown",
      "metadata": {
        "id": "TyGsbsLwiGYc",
        "colab_type": "text"
      },
      "source": [
        "# **Police Data**"
      ]
    },
    {
      "cell_type": "code",
      "metadata": {
        "id": "C9g5U8iOhSfr",
        "colab_type": "code",
        "colab": {}
      },
      "source": [
        "#Fixed with classification based on Race\n",
        "from sklearn import preprocessing\n",
        "\n",
        "start = time.time()\n",
        "\n",
        "data = pd.read_csv('database.csv')\n",
        "\n",
        "data = data.dropna()\n",
        "\n",
        "classLabels = data['race']\n",
        "\n",
        "features = pd.DataFrame(data, columns=data.columns[1:4], index=data.index)\n",
        "\n",
        "features = features.join((pd.DataFrame(data[\"age\"].astype(int))))\n",
        "\n",
        "features = features.join(pd.DataFrame(data, columns=data.columns[6:6], index=data.index), sort = False)\n",
        "\n",
        "features = features.join(pd.DataFrame(data, columns=data.columns[8:9], index=data.index), sort = False)\n",
        "\n",
        "features = features.join((pd.DataFrame(data[\"signs_of_mental_illness\"].astype(int))))\n",
        "\n",
        "features = features.join(pd.DataFrame(data, columns=data.columns[11:len(data.columns)-1], index=data.index), sort = False)\n",
        "\n",
        "  \n",
        "encoder = preprocessing.LabelEncoder()\n",
        "encoder.fit(classLabels)\n",
        "\n",
        "\n",
        "encodedClassLabels = encoder.transform(classLabels)\n",
        "encodedFeatures = features.apply(encoder.fit_transform)"
      ],
      "execution_count": 0,
      "outputs": []
    },
    {
      "cell_type": "code",
      "metadata": {
        "id": "I52JFSUnhzyB",
        "colab_type": "code",
        "outputId": "48538668-c81d-41b4-faf7-1079da73cf10",
        "colab": {
          "base_uri": "https://localhost:8080/",
          "height": 71
        }
      },
      "source": [
        "police_test = test_algorithms(encodedClassLabels, encodedFeatures, \"Police Data\")"
      ],
      "execution_count": 0,
      "outputs": [
        {
          "output_type": "stream",
          "text": [
            "/usr/local/lib/python3.6/dist-packages/sklearn/svm/base.py:193: FutureWarning: The default value of gamma will change from 'auto' to 'scale' in version 0.22 to account better for unscaled features. Set gamma explicitly to 'auto' or 'scale' to avoid this warning.\n",
            "  \"avoid this warning.\", FutureWarning)\n"
          ],
          "name": "stderr"
        }
      ]
    },
    {
      "cell_type": "code",
      "metadata": {
        "id": "CjrJYSSoh_Ec",
        "colab_type": "code",
        "outputId": "c3c925b7-0443-469a-e330-25d59cf318ea",
        "colab": {
          "base_uri": "https://localhost:8080/",
          "height": 306
        }
      },
      "source": [
        "police_test"
      ],
      "execution_count": 0,
      "outputs": [
        {
          "output_type": "execute_result",
          "data": {
            "text/plain": [
              "{'DT Time': 0.011855125427246094,\n",
              " 'Dataset': 'Police Data',\n",
              " 'Decision Tree Accuracy': 0.42052313883299797,\n",
              " 'GD Time': 0.04856276512145996,\n",
              " 'GPC Accuracy': 0.5392354124748491,\n",
              " 'GPC Time': 12.738317966461182,\n",
              " 'Gradient Descent Accuracy': 0.5331991951710262,\n",
              " 'KNN Accuracy': 0.4768611670020121,\n",
              " 'KNN Time': 0.03046441078186035,\n",
              " 'LDA Accuracy': 0.5674044265593562,\n",
              " 'LDA Time': 0.008985280990600586,\n",
              " 'NB Time': 0.004993915557861328,\n",
              " 'Naive Bayes Accuracy': 0.5130784708249497,\n",
              " 'RNF Time': 0.1464977264404297,\n",
              " 'Random Forest Accuracy': 0.5352112676056338,\n",
              " 'SVM Accuracy': 0.5674044265593562,\n",
              " 'SVM Time': 0.3409395217895508}"
            ]
          },
          "metadata": {
            "tags": []
          },
          "execution_count": 14
        }
      ]
    },
    {
      "cell_type": "markdown",
      "metadata": {
        "id": "uKNMu_S8l4V4",
        "colab_type": "text"
      },
      "source": [
        "# **Faces Dataset**"
      ]
    },
    {
      "cell_type": "code",
      "metadata": {
        "id": "l5V2W4hwjM60",
        "colab_type": "code",
        "outputId": "de17144e-c1aa-4227-a084-efcacb5874da",
        "colab": {
          "base_uri": "https://localhost:8080/",
          "height": 85
        }
      },
      "source": [
        "!tar xzf crop_part1.tar.gz"
      ],
      "execution_count": 0,
      "outputs": [
        {
          "output_type": "stream",
          "text": [
            "tar (child): crop_part1.tar.gz: Cannot open: No such file or directory\n",
            "tar (child): Error is not recoverable: exiting now\n",
            "tar: Child returned status 2\n",
            "tar: Error is not recoverable: exiting now\n"
          ],
          "name": "stdout"
        }
      ]
    },
    {
      "cell_type": "code",
      "metadata": {
        "id": "kDt3IRhyjGsu",
        "colab_type": "code",
        "outputId": "5993800d-53e9-4b2f-91e5-dc1c9000ad39",
        "colab": {
          "base_uri": "https://localhost:8080/",
          "height": 428
        }
      },
      "source": [
        "import numpy as np\n",
        "import cv2\n",
        "import os\n",
        "import sys\n",
        "from google.colab.patches import cv2_imshow\n",
        "import matplotlib.pyplot as plt\n",
        "from sklearn.model_selection import train_test_split\n",
        "\n",
        "import tensorflow as tf\n",
        "from tensorflow import keras\n",
        "\n",
        "\n",
        "#Have to run twice if starting from fresh run so that \n",
        "#directory we change to the correct one\n",
        "\n",
        "directory = os.getcwd()\n",
        "\n",
        "if directory == '/content':\n",
        "  os.chdir('crop_part1')\n",
        "\n",
        "genderLabels = list()\n",
        "genderTextLabels = list()\n",
        "'''\n",
        "gender labels is the list of validated genders for each corresponding\n",
        "photo\n",
        "'''\n",
        "\n",
        "for filename in os.listdir(directory)[0:3000]:\n",
        "  split = filename.split('_')\n",
        "  genderLabels.append(split[1])\n",
        "  #img = cv2.imread(filename,1)\n",
        "  #images.append(img)\n",
        "\n",
        "filelist = os.listdir(directory)[0:3000]\n",
        "\n",
        "images = np.array([cv2.imread(fname, 1) for fname in filelist])\n",
        "\n",
        "encoded = images\n",
        "imageDict = list()\n",
        "\n",
        "for image in encoded:\n",
        "  imageList = list() \n",
        "  for pixel in image:\n",
        "    pixel = np.mean(pixel)\n",
        "    imageList.append(pixel)\n",
        "  imageDict.append(imageList)\n",
        "\n",
        "for gender in genderLabels:\n",
        "  if gender == \"0\":\n",
        "    genderTextLabels.append(0)\n",
        "  \n",
        "  elif gender == \"1\":\n",
        "    genderTextLabels.append(1)\n",
        "  else:\n",
        "    genderTextLabels.append(1)\n",
        "\n",
        "images = images / 255.0\n",
        "\n",
        "X_train, X_test, y_train, y_test = train_test_split(images, genderTextLabels, test_size=0.30)\n",
        "\n",
        "from keras.models import Sequential\n",
        "from keras.layers import Dense, Dropout, Flatten\n",
        "from keras.layers import Conv2D, MaxPooling2D, BatchNormalization\n",
        "\n",
        "\n",
        "cnn = Sequential()\n",
        "cnn.add(Conv2D(32, kernel_size=(3, 3), activation='relu', input_shape=(200,200,3)))\n",
        "cnn.add(BatchNormalization())\n",
        "\n",
        "cnn.add(Conv2D(32, kernel_size=(3, 3), activation='relu'))\n",
        "cnn.add(BatchNormalization())\n",
        "cnn.add(MaxPooling2D(pool_size=(2, 2)))\n",
        "cnn.add(Dropout(0.25))\n",
        "\n",
        "cnn.add(Conv2D(64, kernel_size=(3, 3), activation='relu'))\n",
        "cnn.add(BatchNormalization())\n",
        "cnn.add(Dropout(0.25))\n",
        "\n",
        "cnn.add(Conv2D(128, kernel_size=(3, 3), activation='relu'))\n",
        "cnn.add(BatchNormalization())\n",
        "cnn.add(MaxPooling2D(pool_size=(2, 2)))\n",
        "cnn.add(Dropout(0.25))\n",
        "\n",
        "cnn.add(Flatten())\n",
        "\n",
        "cnn.add(Dense(512, activation='relu'))\n",
        "cnn.add(BatchNormalization())\n",
        "cnn.add(Dropout(0.5))\n",
        "\n",
        "cnn.add(Dense(128, activation='relu'))\n",
        "cnn.add(BatchNormalization())\n",
        "cnn.add(Dropout(0.5))\n",
        "\n",
        "cnn.add(Dense(10, activation='softmax'))\n",
        "\n",
        "cnn.compile(optimizer='adam', \n",
        "              loss='sparse_categorical_crossentropy',\n",
        "              metrics=['accuracy'])\n",
        "\n",
        "cnn_images_start_time = time.time()\n",
        "\n",
        "cnn.fit(X_train, y_train, epochs=10)\n",
        "\n",
        "cnn_images_end_time = time.time() - cnn_images_start_time"
      ],
      "execution_count": 0,
      "outputs": [
        {
          "output_type": "stream",
          "text": [
            "W0613 22:25:35.302737 140665816233856 deprecation.py:323] From /usr/local/lib/python3.6/dist-packages/tensorflow/python/ops/math_grad.py:1250: add_dispatch_support.<locals>.wrapper (from tensorflow.python.ops.array_ops) is deprecated and will be removed in a future version.\n",
            "Instructions for updating:\n",
            "Use tf.where in 2.0, which has the same broadcast rule as np.where\n"
          ],
          "name": "stderr"
        },
        {
          "output_type": "stream",
          "text": [
            "Epoch 1/10\n",
            "2100/2100 [==============================] - 29s 14ms/step - loss: 2.5846 - acc: 0.3929\n",
            "Epoch 2/10\n",
            "2100/2100 [==============================] - 18s 9ms/step - loss: 1.7074 - acc: 0.5705\n",
            "Epoch 3/10\n",
            "2100/2100 [==============================] - 18s 9ms/step - loss: 1.1365 - acc: 0.7176\n",
            "Epoch 4/10\n",
            "2100/2100 [==============================] - 18s 9ms/step - loss: 1.0108 - acc: 0.7305\n",
            "Epoch 5/10\n",
            "2100/2100 [==============================] - 18s 9ms/step - loss: 0.7496 - acc: 0.7800\n",
            "Epoch 6/10\n",
            "2100/2100 [==============================] - 18s 9ms/step - loss: 0.6395 - acc: 0.7919\n",
            "Epoch 7/10\n",
            "2100/2100 [==============================] - 18s 9ms/step - loss: 0.5308 - acc: 0.8119\n",
            "Epoch 8/10\n",
            "2100/2100 [==============================] - 18s 9ms/step - loss: 0.4579 - acc: 0.8171\n",
            "Epoch 9/10\n",
            "2100/2100 [==============================] - 18s 9ms/step - loss: 0.3631 - acc: 0.8510\n",
            "Epoch 10/10\n",
            "2100/2100 [==============================] - 18s 9ms/step - loss: 0.3362 - acc: 0.8595\n"
          ],
          "name": "stdout"
        }
      ]
    },
    {
      "cell_type": "code",
      "metadata": {
        "id": "9rfQOfUGlo6P",
        "colab_type": "code",
        "outputId": "53652211-3f7d-4d53-940f-6598c63e28f4",
        "colab": {
          "base_uri": "https://localhost:8080/",
          "height": 306
        }
      },
      "source": [
        "faces_test"
      ],
      "execution_count": 0,
      "outputs": [
        {
          "output_type": "execute_result",
          "data": {
            "text/plain": [
              "{'DT Time': 0.6066138744354248,\n",
              " 'Dataset': 'Female/Male/Photes',\n",
              " 'Decision Tree Accuracy': 0.5573333333333333,\n",
              " 'GD Time': 0.23866939544677734,\n",
              " 'GPC Accuracy': 0.696,\n",
              " 'GPC Time': 5.109435081481934,\n",
              " 'Gradient Descent Accuracy': 0.6706666666666666,\n",
              " 'KNN Accuracy': 0.632,\n",
              " 'KNN Time': 0.4463670253753662,\n",
              " 'LDA Accuracy': 0.6946666666666667,\n",
              " 'LDA Time': 0.20644021034240723,\n",
              " 'NB Time': 0.08516168594360352,\n",
              " 'Naive Bayes Accuracy': 0.5733333333333334,\n",
              " 'RNF Time': 0.6302542686462402,\n",
              " 'Random Forest Accuracy': 0.6106666666666667,\n",
              " 'SVM Accuracy': 0.6946666666666667,\n",
              " 'SVM Time': 1.997300624847412}"
            ]
          },
          "metadata": {
            "tags": []
          },
          "execution_count": 23
        }
      ]
    },
    {
      "cell_type": "code",
      "metadata": {
        "id": "UpaL5dZU9mYm",
        "colab_type": "code",
        "outputId": "86bf66de-73fa-492b-f27d-1b0a61928c22",
        "colab": {
          "base_uri": "https://localhost:8080/",
          "height": 71
        }
      },
      "source": [
        "face_test = test_algorithms(genderTextLabels, imageDict, \"Female/Male Photos\")"
      ],
      "execution_count": 0,
      "outputs": [
        {
          "output_type": "stream",
          "text": [
            "/usr/local/lib/python3.6/dist-packages/sklearn/svm/base.py:193: FutureWarning: The default value of gamma will change from 'auto' to 'scale' in version 0.22 to account better for unscaled features. Set gamma explicitly to 'auto' or 'scale' to avoid this warning.\n",
            "  \"avoid this warning.\", FutureWarning)\n"
          ],
          "name": "stderr"
        }
      ]
    },
    {
      "cell_type": "code",
      "metadata": {
        "id": "4IR85VeF-hFA",
        "colab_type": "code",
        "outputId": "6ffe88a0-dd06-4e7a-b32c-9d92b3c8096a",
        "colab": {
          "base_uri": "https://localhost:8080/",
          "height": 306
        }
      },
      "source": [
        "face_test"
      ],
      "execution_count": 0,
      "outputs": [
        {
          "output_type": "execute_result",
          "data": {
            "text/plain": [
              "{'DT Time': 0.5195660591125488,\n",
              " 'Dataset': 'Female/Male Photos',\n",
              " 'Decision Tree Accuracy': 0.5746666666666667,\n",
              " 'GD Time': 0.14540863037109375,\n",
              " 'GPC Accuracy': 0.4826666666666667,\n",
              " 'GPC Time': 3.732562780380249,\n",
              " 'Gradient Descent Accuracy': 0.6933333333333334,\n",
              " 'KNN Accuracy': 0.596,\n",
              " 'KNN Time': 0.37125658988952637,\n",
              " 'LDA Accuracy': 0.692,\n",
              " 'LDA Time': 0.19354701042175293,\n",
              " 'NB Time': 0.07114577293395996,\n",
              " 'Naive Bayes Accuracy': 0.556,\n",
              " 'RNF Time': 0.5299379825592041,\n",
              " 'Random Forest Accuracy': 0.568,\n",
              " 'SVM Accuracy': 0.692,\n",
              " 'SVM Time': 1.8235018253326416}"
            ]
          },
          "metadata": {
            "tags": []
          },
          "execution_count": 10
        }
      ]
    },
    {
      "cell_type": "code",
      "metadata": {
        "id": "cbPG10zwoce2",
        "colab_type": "code",
        "colab": {}
      },
      "source": [
        "os.chdir(\"/content\")"
      ],
      "execution_count": 0,
      "outputs": []
    },
    {
      "cell_type": "code",
      "metadata": {
        "id": "0I6u4CH0Zvlf",
        "colab_type": "code",
        "outputId": "2d45b5e1-9eba-433d-9ab6-583859b1e9f6",
        "colab": {
          "base_uri": "https://localhost:8080/",
          "height": 34
        }
      },
      "source": [
        "cnn_accuracy_photos = 0.8418\n",
        "print(cnn_images_end_time)\n"
      ],
      "execution_count": 0,
      "outputs": [
        {
          "output_type": "stream",
          "text": [
            "35.61048674583435\n"
          ],
          "name": "stdout"
        }
      ]
    },
    {
      "cell_type": "markdown",
      "metadata": {
        "id": "mUTr9ORtmEW1",
        "colab_type": "text"
      },
      "source": [
        "# **Neural Network Code**"
      ]
    },
    {
      "cell_type": "code",
      "metadata": {
        "id": "FIMvEy8pmVqh",
        "colab_type": "code",
        "colab": {}
      },
      "source": [
        "from keras.models import Sequential\n",
        "from keras.layers import Dense, Dropout, Flatten, Activation\n",
        "from keras.layers import Conv2D, MaxPooling2D, BatchNormalization\n",
        "\n",
        "def CNN(X,Y, test_images, test_labels,dim):\n",
        "  model = Sequential()\n",
        "\n",
        "  model.add(Dense(11, input_shape= dim ))\n",
        "  model.add(Activation('relu'))\n",
        "\n",
        "  model.add(Dense(5))\n",
        "  model.add(Activation('relu'))\n",
        "\n",
        "  model.add(Dense(2))\n",
        "  model.add(Activation('softmax'))\n",
        "\n",
        "  \n",
        "  model.compile(optimizer='adam', \n",
        "                loss='sparse_categorical_crossentropy',\n",
        "                metrics=['accuracy'])\n",
        "  \n",
        "  hist = model.fit(X, Y,\n",
        "         nb_epoch=50,\n",
        "         shuffle=True,\n",
        "         batch_size=128,\n",
        "         validation_data=(X, Y))\n",
        "  \n",
        "  test_loss, test_acc = model.evaluate(test_images, test_labels)\n",
        "\n",
        "  return(test_acc)"
      ],
      "execution_count": 0,
      "outputs": []
    },
    {
      "cell_type": "code",
      "metadata": {
        "id": "uaZPYibDmnyJ",
        "colab_type": "code",
        "outputId": "58528ac1-28eb-47ab-9cf5-fc44679b29be",
        "colab": {
          "base_uri": "https://localhost:8080/",
          "height": 1788
        }
      },
      "source": [
        "import pandas as pd\n",
        "data = pd.read_csv(\"mushrooms.csv\")\n",
        "features = pd.DataFrame(data, columns=data.columns[1:len(data.columns)], index=data.index)\n",
        "classLabels = data['class']\n",
        "\n",
        "labelencoder = LabelEncoder()\n",
        "mushrooms = mushrooms.apply(labelencoder.fit_transform)\n",
        "\n",
        "mushroom_features = mushrooms.iloc[:,1:]\n",
        "mushroom_labels = mushrooms.iloc[:,0]\n",
        "\n",
        "#encoder = preprocessing.LabelEncoder()\n",
        "#encoder.fit(classLabels)\n",
        "\n",
        "#encodedClassLabels = encoder.transform(classLabels)\n",
        "#encodedFeatures = features.apply(encoder.fit_transform)\n",
        "\n",
        "\"\"\" \n",
        "Split data into train and test sets using 30% test set size.\n",
        "\"\"\"\n",
        "\n",
        "x_train, x_test, y_train, y_test = train_test_split(mushroom_features, \n",
        "                                                    mushroom_labels, test_size = 0.3)\n",
        "cnn_mush_starttime = time.time()\n",
        "cnn_accuracy_mush = CNN(x_train, y_train, x_test, y_test, [22])\n",
        "cnn_mush_end_time = time.time() - cnn_mush_starttime"
      ],
      "execution_count": 0,
      "outputs": [
        {
          "output_type": "stream",
          "text": [
            "/usr/local/lib/python3.6/dist-packages/ipykernel_launcher.py:26: UserWarning: The `nb_epoch` argument in `fit` has been renamed `epochs`.\n"
          ],
          "name": "stderr"
        },
        {
          "output_type": "stream",
          "text": [
            "Train on 5686 samples, validate on 5686 samples\n",
            "Epoch 1/50\n",
            "5686/5686 [==============================] - 2s 264us/step - loss: 1.1515 - acc: 0.6377 - val_loss: 0.6708 - val_acc: 0.6843\n",
            "Epoch 2/50\n",
            "5686/5686 [==============================] - 0s 55us/step - loss: 0.6411 - acc: 0.7279 - val_loss: 0.6152 - val_acc: 0.7626\n",
            "Epoch 3/50\n",
            "5686/5686 [==============================] - 0s 58us/step - loss: 0.5875 - acc: 0.7738 - val_loss: 0.5507 - val_acc: 0.7884\n",
            "Epoch 4/50\n",
            "5686/5686 [==============================] - 0s 56us/step - loss: 0.5197 - acc: 0.8069 - val_loss: 0.4853 - val_acc: 0.8241\n",
            "Epoch 5/50\n",
            "5686/5686 [==============================] - 0s 54us/step - loss: 0.4570 - acc: 0.8326 - val_loss: 0.4265 - val_acc: 0.8477\n",
            "Epoch 6/50\n",
            "5686/5686 [==============================] - 0s 58us/step - loss: 0.4040 - acc: 0.8586 - val_loss: 0.3805 - val_acc: 0.8681\n",
            "Epoch 7/50\n",
            "5686/5686 [==============================] - 0s 56us/step - loss: 0.3636 - acc: 0.8753 - val_loss: 0.3483 - val_acc: 0.8813\n",
            "Epoch 8/50\n",
            "5686/5686 [==============================] - 0s 54us/step - loss: 0.3324 - acc: 0.8873 - val_loss: 0.3176 - val_acc: 0.8961\n",
            "Epoch 9/50\n",
            "5686/5686 [==============================] - 0s 56us/step - loss: 0.3059 - acc: 0.9013 - val_loss: 0.2938 - val_acc: 0.9010\n",
            "Epoch 10/50\n",
            "5686/5686 [==============================] - 0s 59us/step - loss: 0.2845 - acc: 0.9045 - val_loss: 0.2739 - val_acc: 0.9096\n",
            "Epoch 11/50\n",
            "5686/5686 [==============================] - 0s 56us/step - loss: 0.2665 - acc: 0.9107 - val_loss: 0.2586 - val_acc: 0.9108\n",
            "Epoch 12/50\n",
            "5686/5686 [==============================] - 0s 55us/step - loss: 0.2516 - acc: 0.9128 - val_loss: 0.2477 - val_acc: 0.9200\n",
            "Epoch 13/50\n",
            "5686/5686 [==============================] - 0s 60us/step - loss: 0.2400 - acc: 0.9172 - val_loss: 0.2310 - val_acc: 0.9205\n",
            "Epoch 14/50\n",
            "5686/5686 [==============================] - 0s 54us/step - loss: 0.2269 - acc: 0.9228 - val_loss: 0.2200 - val_acc: 0.9216\n",
            "Epoch 15/50\n",
            "5686/5686 [==============================] - 0s 56us/step - loss: 0.2154 - acc: 0.9261 - val_loss: 0.2088 - val_acc: 0.9258\n",
            "Epoch 16/50\n",
            "5686/5686 [==============================] - 0s 60us/step - loss: 0.2051 - acc: 0.9286 - val_loss: 0.2007 - val_acc: 0.9260\n",
            "Epoch 17/50\n",
            "5686/5686 [==============================] - 0s 53us/step - loss: 0.1970 - acc: 0.9309 - val_loss: 0.1894 - val_acc: 0.9348\n",
            "Epoch 18/50\n",
            "5686/5686 [==============================] - 0s 57us/step - loss: 0.1863 - acc: 0.9348 - val_loss: 0.1808 - val_acc: 0.9367\n",
            "Epoch 19/50\n",
            "5686/5686 [==============================] - 0s 60us/step - loss: 0.1777 - acc: 0.9391 - val_loss: 0.1723 - val_acc: 0.9399\n",
            "Epoch 20/50\n",
            "5686/5686 [==============================] - 0s 55us/step - loss: 0.1692 - acc: 0.9434 - val_loss: 0.1662 - val_acc: 0.9409\n",
            "Epoch 21/50\n",
            "5686/5686 [==============================] - 0s 57us/step - loss: 0.1619 - acc: 0.9428 - val_loss: 0.1591 - val_acc: 0.9434\n",
            "Epoch 22/50\n",
            "5686/5686 [==============================] - 0s 57us/step - loss: 0.1552 - acc: 0.9455 - val_loss: 0.1492 - val_acc: 0.9450\n",
            "Epoch 23/50\n",
            "5686/5686 [==============================] - 0s 56us/step - loss: 0.1460 - acc: 0.9478 - val_loss: 0.1413 - val_acc: 0.9497\n",
            "Epoch 24/50\n",
            "5686/5686 [==============================] - 0s 55us/step - loss: 0.1392 - acc: 0.9499 - val_loss: 0.1350 - val_acc: 0.9520\n",
            "Epoch 25/50\n",
            "5686/5686 [==============================] - 0s 60us/step - loss: 0.1319 - acc: 0.9529 - val_loss: 0.1314 - val_acc: 0.9560\n",
            "Epoch 26/50\n",
            "5686/5686 [==============================] - 0s 56us/step - loss: 0.1258 - acc: 0.9562 - val_loss: 0.1206 - val_acc: 0.9569\n",
            "Epoch 27/50\n",
            "5686/5686 [==============================] - 0s 65us/step - loss: 0.1180 - acc: 0.9588 - val_loss: 0.1190 - val_acc: 0.9553\n",
            "Epoch 28/50\n",
            "5686/5686 [==============================] - 0s 58us/step - loss: 0.1127 - acc: 0.9606 - val_loss: 0.1087 - val_acc: 0.9604\n",
            "Epoch 29/50\n",
            "5686/5686 [==============================] - 0s 57us/step - loss: 0.1077 - acc: 0.9618 - val_loss: 0.1037 - val_acc: 0.9668\n",
            "Epoch 30/50\n",
            "5686/5686 [==============================] - 0s 59us/step - loss: 0.1018 - acc: 0.9654 - val_loss: 0.0968 - val_acc: 0.9676\n",
            "Epoch 31/50\n",
            "5686/5686 [==============================] - 0s 55us/step - loss: 0.0979 - acc: 0.9657 - val_loss: 0.0936 - val_acc: 0.9687\n",
            "Epoch 32/50\n",
            "5686/5686 [==============================] - 0s 59us/step - loss: 0.0908 - acc: 0.9698 - val_loss: 0.0869 - val_acc: 0.9699\n",
            "Epoch 33/50\n",
            "5686/5686 [==============================] - 0s 58us/step - loss: 0.0862 - acc: 0.9701 - val_loss: 0.0824 - val_acc: 0.9740\n",
            "Epoch 34/50\n",
            "5686/5686 [==============================] - 0s 59us/step - loss: 0.0812 - acc: 0.9729 - val_loss: 0.0786 - val_acc: 0.9717\n",
            "Epoch 35/50\n",
            "5686/5686 [==============================] - 0s 61us/step - loss: 0.0772 - acc: 0.9736 - val_loss: 0.0738 - val_acc: 0.9757\n",
            "Epoch 36/50\n",
            "5686/5686 [==============================] - 0s 60us/step - loss: 0.0728 - acc: 0.9771 - val_loss: 0.0701 - val_acc: 0.9780\n",
            "Epoch 37/50\n",
            "5686/5686 [==============================] - 0s 57us/step - loss: 0.0698 - acc: 0.9785 - val_loss: 0.0665 - val_acc: 0.9796\n",
            "Epoch 38/50\n",
            "5686/5686 [==============================] - 0s 61us/step - loss: 0.0667 - acc: 0.9789 - val_loss: 0.0642 - val_acc: 0.9780\n",
            "Epoch 39/50\n",
            "5686/5686 [==============================] - 0s 59us/step - loss: 0.0630 - acc: 0.9808 - val_loss: 0.0663 - val_acc: 0.9773\n",
            "Epoch 40/50\n",
            "5686/5686 [==============================] - 0s 59us/step - loss: 0.0617 - acc: 0.9821 - val_loss: 0.0593 - val_acc: 0.9863\n",
            "Epoch 41/50\n",
            "5686/5686 [==============================] - 0s 59us/step - loss: 0.0573 - acc: 0.9843 - val_loss: 0.0541 - val_acc: 0.9868\n",
            "Epoch 42/50\n",
            "5686/5686 [==============================] - 0s 56us/step - loss: 0.0544 - acc: 0.9851 - val_loss: 0.0518 - val_acc: 0.9866\n",
            "Epoch 43/50\n",
            "5686/5686 [==============================] - 0s 56us/step - loss: 0.0516 - acc: 0.9866 - val_loss: 0.0511 - val_acc: 0.9891\n",
            "Epoch 44/50\n",
            "5686/5686 [==============================] - 0s 55us/step - loss: 0.0496 - acc: 0.9868 - val_loss: 0.0494 - val_acc: 0.9851\n",
            "Epoch 45/50\n",
            "5686/5686 [==============================] - 0s 57us/step - loss: 0.0487 - acc: 0.9879 - val_loss: 0.0438 - val_acc: 0.9898\n",
            "Epoch 46/50\n",
            "5686/5686 [==============================] - 0s 57us/step - loss: 0.0433 - acc: 0.9907 - val_loss: 0.0432 - val_acc: 0.9884\n",
            "Epoch 47/50\n",
            "5686/5686 [==============================] - 0s 54us/step - loss: 0.0403 - acc: 0.9914 - val_loss: 0.0411 - val_acc: 0.9896\n",
            "Epoch 48/50\n",
            "5686/5686 [==============================] - 0s 64us/step - loss: 0.0387 - acc: 0.9923 - val_loss: 0.0364 - val_acc: 0.9924\n",
            "Epoch 49/50\n",
            "5686/5686 [==============================] - 0s 66us/step - loss: 0.0364 - acc: 0.9926 - val_loss: 0.0348 - val_acc: 0.9919\n",
            "Epoch 50/50\n",
            "5686/5686 [==============================] - 0s 62us/step - loss: 0.0348 - acc: 0.9921 - val_loss: 0.0321 - val_acc: 0.9935\n",
            "2438/2438 [==============================] - 0s 63us/step\n"
          ],
          "name": "stdout"
        }
      ]
    },
    {
      "cell_type": "code",
      "metadata": {
        "id": "lHJMzcVXrlGf",
        "colab_type": "code",
        "outputId": "12b68d5a-8f35-4f35-f825-197239f4164f",
        "colab": {
          "base_uri": "https://localhost:8080/",
          "height": 1788
        }
      },
      "source": [
        "import numpy as np\n",
        "import cv2\n",
        "import os\n",
        "import sys\n",
        "import pandas\n",
        "from google.colab.patches import cv2_imshow\n",
        "import matplotlib.pyplot as plt\n",
        "from sklearn import preprocessing\n",
        "from sklearn.model_selection import train_test_split\n",
        "\n",
        "import tensorflow as tf\n",
        "from tensorflow import keras\n",
        "\n",
        "data = pandas.read_csv('winequality-red.csv')\n",
        "features = pandas.DataFrame(data, columns=data.columns[1:len(data.columns)], index=data.index)\n",
        "classLabels = data['quality']\n",
        "\n",
        "#print(data.shape)\n",
        "\n",
        "encoder = preprocessing.LabelEncoder()\n",
        "encoder.fit(classLabels)\n",
        "\n",
        "encodedClassLabels = encoder.transform(classLabels)\n",
        "encodedFeatures = features.apply(encoder.fit_transform)\n",
        "\n",
        "encodedClassLabels = np.true_divide(encodedClassLabels, 5)\n",
        "\n",
        "#print(type(encodedClassLabels))\n",
        "\"\"\" \n",
        "Split data into train and test sets using 30% test set size.\n",
        "\"\"\"\n",
        "\n",
        "x_train, x_test, y_train, y_test = train_test_split(encodedFeatures, \n",
        "                                                    encodedClassLabels, test_size = 0.3)\n",
        "cnn_wine_start = time.time()\n",
        "cnn_wine_accuracy = CNN(x_train, y_train, x_test, y_test, [11])\n",
        "cnn_wine_end = time.time() - cnn_wine_start"
      ],
      "execution_count": 0,
      "outputs": [
        {
          "output_type": "stream",
          "text": [
            "/usr/local/lib/python3.6/dist-packages/ipykernel_launcher.py:26: UserWarning: The `nb_epoch` argument in `fit` has been renamed `epochs`.\n"
          ],
          "name": "stderr"
        },
        {
          "output_type": "stream",
          "text": [
            "Train on 1119 samples, validate on 1119 samples\n",
            "Epoch 1/50\n",
            "1119/1119 [==============================] - 1s 905us/step - loss: 0.7851 - acc: 0.0116 - val_loss: 0.5598 - val_acc: 0.0116\n",
            "Epoch 2/50\n",
            "1119/1119 [==============================] - 0s 58us/step - loss: 0.4645 - acc: 0.0116 - val_loss: 0.3306 - val_acc: 0.0107\n",
            "Epoch 3/50\n",
            "1119/1119 [==============================] - 0s 66us/step - loss: 0.2697 - acc: 0.0107 - val_loss: 0.2116 - val_acc: 0.0098\n",
            "Epoch 4/50\n",
            "1119/1119 [==============================] - 0s 59us/step - loss: 0.1837 - acc: 0.0098 - val_loss: 0.1616 - val_acc: 0.0080\n",
            "Epoch 5/50\n",
            "1119/1119 [==============================] - 0s 56us/step - loss: 0.1553 - acc: 0.0080 - val_loss: 0.1542 - val_acc: 0.0080\n",
            "Epoch 6/50\n",
            "1119/1119 [==============================] - 0s 59us/step - loss: 0.1552 - acc: 0.0080 - val_loss: 0.1542 - val_acc: 0.0080\n",
            "Epoch 7/50\n",
            "1119/1119 [==============================] - 0s 66us/step - loss: 0.1536 - acc: 0.0080 - val_loss: 0.1526 - val_acc: 0.0080\n",
            "Epoch 8/50\n",
            "1119/1119 [==============================] - 0s 56us/step - loss: 0.1517 - acc: 0.0080 - val_loss: 0.1491 - val_acc: 0.0080\n",
            "Epoch 9/50\n",
            "1119/1119 [==============================] - 0s 57us/step - loss: 0.1479 - acc: 0.0080 - val_loss: 0.1463 - val_acc: 0.0080\n",
            "Epoch 10/50\n",
            "1119/1119 [==============================] - 0s 67us/step - loss: 0.1458 - acc: 0.0080 - val_loss: 0.1442 - val_acc: 0.0080\n",
            "Epoch 11/50\n",
            "1119/1119 [==============================] - 0s 61us/step - loss: 0.1441 - acc: 0.0080 - val_loss: 0.1427 - val_acc: 0.0089\n",
            "Epoch 12/50\n",
            "1119/1119 [==============================] - 0s 70us/step - loss: 0.1424 - acc: 0.0089 - val_loss: 0.1416 - val_acc: 0.0089\n",
            "Epoch 13/50\n",
            "1119/1119 [==============================] - 0s 59us/step - loss: 0.1415 - acc: 0.0089 - val_loss: 0.1407 - val_acc: 0.0089\n",
            "Epoch 14/50\n",
            "1119/1119 [==============================] - 0s 56us/step - loss: 0.1406 - acc: 0.0089 - val_loss: 0.1397 - val_acc: 0.0089\n",
            "Epoch 15/50\n",
            "1119/1119 [==============================] - 0s 57us/step - loss: 0.1396 - acc: 0.0089 - val_loss: 0.1389 - val_acc: 0.0089\n",
            "Epoch 16/50\n",
            "1119/1119 [==============================] - 0s 61us/step - loss: 0.1389 - acc: 0.0089 - val_loss: 0.1381 - val_acc: 0.0089\n",
            "Epoch 17/50\n",
            "1119/1119 [==============================] - 0s 71us/step - loss: 0.1378 - acc: 0.0089 - val_loss: 0.1371 - val_acc: 0.0089\n",
            "Epoch 18/50\n",
            "1119/1119 [==============================] - 0s 70us/step - loss: 0.1370 - acc: 0.0089 - val_loss: 0.1364 - val_acc: 0.0089\n",
            "Epoch 19/50\n",
            "1119/1119 [==============================] - 0s 58us/step - loss: 0.1360 - acc: 0.0089 - val_loss: 0.1356 - val_acc: 0.0089\n",
            "Epoch 20/50\n",
            "1119/1119 [==============================] - 0s 71us/step - loss: 0.1358 - acc: 0.0089 - val_loss: 0.1346 - val_acc: 0.0089\n",
            "Epoch 21/50\n",
            "1119/1119 [==============================] - 0s 59us/step - loss: 0.1353 - acc: 0.0089 - val_loss: 0.1340 - val_acc: 0.0089\n",
            "Epoch 22/50\n",
            "1119/1119 [==============================] - 0s 62us/step - loss: 0.1343 - acc: 0.0089 - val_loss: 0.1331 - val_acc: 0.0089\n",
            "Epoch 23/50\n",
            "1119/1119 [==============================] - 0s 62us/step - loss: 0.1335 - acc: 0.0089 - val_loss: 0.1326 - val_acc: 0.0089\n",
            "Epoch 24/50\n",
            "1119/1119 [==============================] - 0s 59us/step - loss: 0.1328 - acc: 0.0089 - val_loss: 0.1319 - val_acc: 0.0089\n",
            "Epoch 25/50\n",
            "1119/1119 [==============================] - 0s 63us/step - loss: 0.1322 - acc: 0.0089 - val_loss: 0.1313 - val_acc: 0.0089\n",
            "Epoch 26/50\n",
            "1119/1119 [==============================] - 0s 81us/step - loss: 0.1316 - acc: 0.0089 - val_loss: 0.1309 - val_acc: 0.0089\n",
            "Epoch 27/50\n",
            "1119/1119 [==============================] - 0s 60us/step - loss: 0.1310 - acc: 0.0089 - val_loss: 0.1302 - val_acc: 0.0089\n",
            "Epoch 28/50\n",
            "1119/1119 [==============================] - 0s 65us/step - loss: 0.1306 - acc: 0.0089 - val_loss: 0.1297 - val_acc: 0.0089\n",
            "Epoch 29/50\n",
            "1119/1119 [==============================] - 0s 64us/step - loss: 0.1298 - acc: 0.0089 - val_loss: 0.1292 - val_acc: 0.0089\n",
            "Epoch 30/50\n",
            "1119/1119 [==============================] - 0s 60us/step - loss: 0.1298 - acc: 0.0089 - val_loss: 0.1286 - val_acc: 0.0089\n",
            "Epoch 31/50\n",
            "1119/1119 [==============================] - 0s 62us/step - loss: 0.1287 - acc: 0.0089 - val_loss: 0.1282 - val_acc: 0.0089\n",
            "Epoch 32/50\n",
            "1119/1119 [==============================] - 0s 63us/step - loss: 0.1285 - acc: 0.0089 - val_loss: 0.1279 - val_acc: 0.0089\n",
            "Epoch 33/50\n",
            "1119/1119 [==============================] - 0s 59us/step - loss: 0.1283 - acc: 0.0089 - val_loss: 0.1274 - val_acc: 0.0089\n",
            "Epoch 34/50\n",
            "1119/1119 [==============================] - 0s 61us/step - loss: 0.1276 - acc: 0.0089 - val_loss: 0.1271 - val_acc: 0.0089\n",
            "Epoch 35/50\n",
            "1119/1119 [==============================] - 0s 58us/step - loss: 0.1271 - acc: 0.0089 - val_loss: 0.1267 - val_acc: 0.0089\n",
            "Epoch 36/50\n",
            "1119/1119 [==============================] - 0s 63us/step - loss: 0.1267 - acc: 0.0089 - val_loss: 0.1264 - val_acc: 0.0089\n",
            "Epoch 37/50\n",
            "1119/1119 [==============================] - 0s 57us/step - loss: 0.1264 - acc: 0.0098 - val_loss: 0.1261 - val_acc: 0.0098\n",
            "Epoch 38/50\n",
            "1119/1119 [==============================] - 0s 60us/step - loss: 0.1262 - acc: 0.0098 - val_loss: 0.1258 - val_acc: 0.0098\n",
            "Epoch 39/50\n",
            "1119/1119 [==============================] - 0s 61us/step - loss: 0.1258 - acc: 0.0089 - val_loss: 0.1256 - val_acc: 0.0098\n",
            "Epoch 40/50\n",
            "1119/1119 [==============================] - 0s 80us/step - loss: 0.1256 - acc: 0.0098 - val_loss: 0.1254 - val_acc: 0.0098\n",
            "Epoch 41/50\n",
            "1119/1119 [==============================] - 0s 60us/step - loss: 0.1257 - acc: 0.0098 - val_loss: 0.1251 - val_acc: 0.0098\n",
            "Epoch 42/50\n",
            "1119/1119 [==============================] - 0s 63us/step - loss: 0.1253 - acc: 0.0098 - val_loss: 0.1249 - val_acc: 0.0098\n",
            "Epoch 43/50\n",
            "1119/1119 [==============================] - 0s 60us/step - loss: 0.1251 - acc: 0.0098 - val_loss: 0.1247 - val_acc: 0.0098\n",
            "Epoch 44/50\n",
            "1119/1119 [==============================] - 0s 61us/step - loss: 0.1248 - acc: 0.0098 - val_loss: 0.1244 - val_acc: 0.0098\n",
            "Epoch 45/50\n",
            "1119/1119 [==============================] - 0s 60us/step - loss: 0.1247 - acc: 0.0098 - val_loss: 0.1242 - val_acc: 0.0098\n",
            "Epoch 46/50\n",
            "1119/1119 [==============================] - 0s 63us/step - loss: 0.1242 - acc: 0.0098 - val_loss: 0.1240 - val_acc: 0.0098\n",
            "Epoch 47/50\n",
            "1119/1119 [==============================] - 0s 62us/step - loss: 0.1241 - acc: 0.0098 - val_loss: 0.1238 - val_acc: 0.0098\n",
            "Epoch 48/50\n",
            "1119/1119 [==============================] - 0s 65us/step - loss: 0.1239 - acc: 0.0098 - val_loss: 0.1236 - val_acc: 0.0098\n",
            "Epoch 49/50\n",
            "1119/1119 [==============================] - 0s 65us/step - loss: 0.1238 - acc: 0.0098 - val_loss: 0.1235 - val_acc: 0.0098\n",
            "Epoch 50/50\n",
            "1119/1119 [==============================] - 0s 59us/step - loss: 0.1234 - acc: 0.0098 - val_loss: 0.1233 - val_acc: 0.0098\n",
            "480/480 [==============================] - 0s 77us/step\n"
          ],
          "name": "stdout"
        }
      ]
    },
    {
      "cell_type": "code",
      "metadata": {
        "id": "FqeT3JlFrsuj",
        "colab_type": "code",
        "outputId": "11c23370-022a-4f29-be0f-b1e3d857a526",
        "colab": {
          "base_uri": "https://localhost:8080/",
          "height": 1788
        }
      },
      "source": [
        "nums = list(range(0,57))\n",
        "nums.append(\"Class\")\n",
        "data = pd.read_csv('spambase.data', names = nums)\n",
        "\n",
        "features = pd.DataFrame(data, columns=data.columns[0:len(data.columns)-1], index=data.index)\n",
        "classLabels = data[\"Class\"]\n",
        "\n",
        "\n",
        "encoder = preprocessing.LabelEncoder()\n",
        "encoder.fit(classLabels)\n",
        "\n",
        "encodedClassLabels = encoder.transform(classLabels)\n",
        "encodedFeatures = features.apply(encoder.fit_transform)\n",
        "\n",
        "x_train, x_test, y_train, y_test = train_test_split(encodedFeatures, \n",
        "                                                    encodedClassLabels, test_size = 0.3)\n",
        "cnn_spam_start = time.time()\n",
        "cnn_accuracy_spam = CNN(x_train, y_train, x_test, y_test, [57])\n",
        "cnn_spam_end = time.time()"
      ],
      "execution_count": 0,
      "outputs": [
        {
          "output_type": "stream",
          "text": [
            "/usr/local/lib/python3.6/dist-packages/ipykernel_launcher.py:26: UserWarning: The `nb_epoch` argument in `fit` has been renamed `epochs`.\n"
          ],
          "name": "stderr"
        },
        {
          "output_type": "stream",
          "text": [
            "Train on 3220 samples, validate on 3220 samples\n",
            "Epoch 1/50\n",
            "3220/3220 [==============================] - 1s 456us/step - loss: 6.2865 - acc: 0.5391 - val_loss: 5.4346 - val_acc: 0.5733\n",
            "Epoch 2/50\n",
            "3220/3220 [==============================] - 0s 65us/step - loss: 4.5643 - acc: 0.6016 - val_loss: 3.2764 - val_acc: 0.6425\n",
            "Epoch 3/50\n",
            "3220/3220 [==============================] - 0s 56us/step - loss: 2.2260 - acc: 0.6348 - val_loss: 1.4364 - val_acc: 0.6366\n",
            "Epoch 4/50\n",
            "3220/3220 [==============================] - 0s 68us/step - loss: 1.0608 - acc: 0.6907 - val_loss: 0.7986 - val_acc: 0.7435\n",
            "Epoch 5/50\n",
            "3220/3220 [==============================] - 0s 65us/step - loss: 0.7038 - acc: 0.7590 - val_loss: 0.6325 - val_acc: 0.7780\n",
            "Epoch 6/50\n",
            "3220/3220 [==============================] - 0s 59us/step - loss: 0.6089 - acc: 0.7863 - val_loss: 0.5719 - val_acc: 0.7876\n",
            "Epoch 7/50\n",
            "3220/3220 [==============================] - 0s 61us/step - loss: 0.5552 - acc: 0.7932 - val_loss: 0.5280 - val_acc: 0.8012\n",
            "Epoch 8/50\n",
            "3220/3220 [==============================] - 0s 61us/step - loss: 0.5128 - acc: 0.8043 - val_loss: 0.4856 - val_acc: 0.8071\n",
            "Epoch 9/50\n",
            "3220/3220 [==============================] - 0s 68us/step - loss: 0.4763 - acc: 0.8124 - val_loss: 0.4575 - val_acc: 0.8202\n",
            "Epoch 10/50\n",
            "3220/3220 [==============================] - 0s 57us/step - loss: 0.4499 - acc: 0.8230 - val_loss: 0.4363 - val_acc: 0.8264\n",
            "Epoch 11/50\n",
            "3220/3220 [==============================] - 0s 61us/step - loss: 0.4297 - acc: 0.8295 - val_loss: 0.4179 - val_acc: 0.8348\n",
            "Epoch 12/50\n",
            "3220/3220 [==============================] - 0s 60us/step - loss: 0.4138 - acc: 0.8370 - val_loss: 0.4010 - val_acc: 0.8438\n",
            "Epoch 13/50\n",
            "3220/3220 [==============================] - 0s 60us/step - loss: 0.3953 - acc: 0.8447 - val_loss: 0.3857 - val_acc: 0.8463\n",
            "Epoch 14/50\n",
            "3220/3220 [==============================] - 0s 67us/step - loss: 0.3824 - acc: 0.8506 - val_loss: 0.3713 - val_acc: 0.8519\n",
            "Epoch 15/50\n",
            "3220/3220 [==============================] - 0s 57us/step - loss: 0.3682 - acc: 0.8562 - val_loss: 0.3591 - val_acc: 0.8571\n",
            "Epoch 16/50\n",
            "3220/3220 [==============================] - 0s 60us/step - loss: 0.3554 - acc: 0.8596 - val_loss: 0.3500 - val_acc: 0.8615\n",
            "Epoch 17/50\n",
            "3220/3220 [==============================] - 0s 60us/step - loss: 0.3461 - acc: 0.8630 - val_loss: 0.3412 - val_acc: 0.8646\n",
            "Epoch 18/50\n",
            "3220/3220 [==============================] - 0s 58us/step - loss: 0.3376 - acc: 0.8677 - val_loss: 0.3329 - val_acc: 0.8689\n",
            "Epoch 19/50\n",
            "3220/3220 [==============================] - 0s 63us/step - loss: 0.3320 - acc: 0.8693 - val_loss: 0.3262 - val_acc: 0.8752\n",
            "Epoch 20/50\n",
            "3220/3220 [==============================] - 0s 57us/step - loss: 0.3245 - acc: 0.8776 - val_loss: 0.3217 - val_acc: 0.8764\n",
            "Epoch 21/50\n",
            "3220/3220 [==============================] - 0s 56us/step - loss: 0.3179 - acc: 0.8795 - val_loss: 0.3136 - val_acc: 0.8826\n",
            "Epoch 22/50\n",
            "3220/3220 [==============================] - 0s 59us/step - loss: 0.3125 - acc: 0.8839 - val_loss: 0.3091 - val_acc: 0.8839\n",
            "Epoch 23/50\n",
            "3220/3220 [==============================] - 0s 59us/step - loss: 0.3071 - acc: 0.8882 - val_loss: 0.3033 - val_acc: 0.8894\n",
            "Epoch 24/50\n",
            "3220/3220 [==============================] - 0s 63us/step - loss: 0.3007 - acc: 0.8898 - val_loss: 0.2973 - val_acc: 0.8907\n",
            "Epoch 25/50\n",
            "3220/3220 [==============================] - 0s 66us/step - loss: 0.2956 - acc: 0.8916 - val_loss: 0.2927 - val_acc: 0.8910\n",
            "Epoch 26/50\n",
            "3220/3220 [==============================] - 0s 54us/step - loss: 0.2914 - acc: 0.8932 - val_loss: 0.2866 - val_acc: 0.8972\n",
            "Epoch 27/50\n",
            "3220/3220 [==============================] - 0s 58us/step - loss: 0.2852 - acc: 0.8963 - val_loss: 0.2815 - val_acc: 0.8997\n",
            "Epoch 28/50\n",
            "3220/3220 [==============================] - 0s 60us/step - loss: 0.2817 - acc: 0.8984 - val_loss: 0.2779 - val_acc: 0.9028\n",
            "Epoch 29/50\n",
            "3220/3220 [==============================] - 0s 59us/step - loss: 0.2763 - acc: 0.9025 - val_loss: 0.2743 - val_acc: 0.9047\n",
            "Epoch 30/50\n",
            "3220/3220 [==============================] - 0s 67us/step - loss: 0.2727 - acc: 0.9093 - val_loss: 0.2757 - val_acc: 0.9028\n",
            "Epoch 31/50\n",
            "3220/3220 [==============================] - 0s 56us/step - loss: 0.2703 - acc: 0.9062 - val_loss: 0.2650 - val_acc: 0.9109\n",
            "Epoch 32/50\n",
            "3220/3220 [==============================] - 0s 57us/step - loss: 0.2642 - acc: 0.9084 - val_loss: 0.2607 - val_acc: 0.9121\n",
            "Epoch 33/50\n",
            "3220/3220 [==============================] - 0s 69us/step - loss: 0.2610 - acc: 0.9109 - val_loss: 0.2573 - val_acc: 0.9124\n",
            "Epoch 34/50\n",
            "3220/3220 [==============================] - 0s 58us/step - loss: 0.2569 - acc: 0.9137 - val_loss: 0.2535 - val_acc: 0.9130\n",
            "Epoch 35/50\n",
            "3220/3220 [==============================] - 0s 65us/step - loss: 0.2529 - acc: 0.9134 - val_loss: 0.2507 - val_acc: 0.9143\n",
            "Epoch 36/50\n",
            "3220/3220 [==============================] - 0s 61us/step - loss: 0.2497 - acc: 0.9143 - val_loss: 0.2487 - val_acc: 0.9155\n",
            "Epoch 37/50\n",
            "3220/3220 [==============================] - 0s 60us/step - loss: 0.2471 - acc: 0.9171 - val_loss: 0.2442 - val_acc: 0.9171\n",
            "Epoch 38/50\n",
            "3220/3220 [==============================] - 0s 59us/step - loss: 0.2439 - acc: 0.9161 - val_loss: 0.2404 - val_acc: 0.9189\n",
            "Epoch 39/50\n",
            "3220/3220 [==============================] - 0s 60us/step - loss: 0.2414 - acc: 0.9177 - val_loss: 0.2376 - val_acc: 0.9189\n",
            "Epoch 40/50\n",
            "3220/3220 [==============================] - 0s 62us/step - loss: 0.2368 - acc: 0.9177 - val_loss: 0.2348 - val_acc: 0.9174\n",
            "Epoch 41/50\n",
            "3220/3220 [==============================] - 0s 63us/step - loss: 0.2344 - acc: 0.9174 - val_loss: 0.2308 - val_acc: 0.9220\n",
            "Epoch 42/50\n",
            "3220/3220 [==============================] - 0s 56us/step - loss: 0.2338 - acc: 0.9180 - val_loss: 0.2303 - val_acc: 0.9248\n",
            "Epoch 43/50\n",
            "3220/3220 [==============================] - 0s 53us/step - loss: 0.2318 - acc: 0.9205 - val_loss: 0.2250 - val_acc: 0.9261\n",
            "Epoch 44/50\n",
            "3220/3220 [==============================] - 0s 60us/step - loss: 0.2251 - acc: 0.9224 - val_loss: 0.2351 - val_acc: 0.9236\n",
            "Epoch 45/50\n",
            "3220/3220 [==============================] - 0s 58us/step - loss: 0.2271 - acc: 0.9255 - val_loss: 0.2186 - val_acc: 0.9273\n",
            "Epoch 46/50\n",
            "3220/3220 [==============================] - 0s 73us/step - loss: 0.2177 - acc: 0.9255 - val_loss: 0.2169 - val_acc: 0.9280\n",
            "Epoch 47/50\n",
            "3220/3220 [==============================] - 0s 58us/step - loss: 0.2156 - acc: 0.9264 - val_loss: 0.2129 - val_acc: 0.9295\n",
            "Epoch 48/50\n",
            "3220/3220 [==============================] - 0s 56us/step - loss: 0.2198 - acc: 0.9283 - val_loss: 0.2140 - val_acc: 0.9286\n",
            "Epoch 49/50\n",
            "3220/3220 [==============================] - 0s 60us/step - loss: 0.2140 - acc: 0.9286 - val_loss: 0.2099 - val_acc: 0.9295\n",
            "Epoch 50/50\n",
            "3220/3220 [==============================] - 0s 60us/step - loss: 0.2091 - acc: 0.9311 - val_loss: 0.2089 - val_acc: 0.9314\n",
            "1381/1381 [==============================] - 0s 68us/step\n"
          ],
          "name": "stdout"
        }
      ]
    },
    {
      "cell_type": "code",
      "metadata": {
        "id": "LlFYMLoptbso",
        "colab_type": "code",
        "outputId": "28bbbb05-776c-4cf6-f2aa-961d9444cde3",
        "colab": {
          "base_uri": "https://localhost:8080/",
          "height": 1788
        }
      },
      "source": [
        "import pandas as pd\n",
        "\n",
        "data = pd.read_csv('database.csv')\n",
        "\n",
        "data = data.dropna()\n",
        "\n",
        "classLabels = data['race']\n",
        "\n",
        "features = pd.DataFrame(data, columns=data.columns[1:4], index=data.index)\n",
        "\n",
        "features = features.join((pd.DataFrame(data[\"age\"].astype(int))))\n",
        "\n",
        "features = features.join(pd.DataFrame(data, columns=data.columns[6:6], index=data.index), sort = False)\n",
        "\n",
        "features = features.join(pd.DataFrame(data, columns=data.columns[8:9], index=data.index), sort = False)\n",
        "\n",
        "features = features.join((pd.DataFrame(data[\"signs_of_mental_illness\"].astype(int))))\n",
        "\n",
        "features = features.join(pd.DataFrame(data, columns=data.columns[11:len(data.columns)-1], index=data.index), sort = False)\n",
        "\n",
        "  \n",
        "encoder = preprocessing.LabelEncoder()\n",
        "encoder.fit(classLabels)\n",
        "\n",
        "\n",
        "encodedClassLabels = encoder.transform(classLabels)\n",
        "encodedFeatures = features.apply(encoder.fit_transform)\n",
        "\n",
        "encodedClassLabels = np.true_divide(encodedClassLabels, 5)\n",
        "\n",
        "\n",
        "x_train, x_test, y_train, y_test = train_test_split(encodedFeatures, \n",
        "                                                    encodedClassLabels, test_size = 0.3)\n",
        "cnn_start_police = time.time()\n",
        "cnn_accuracy_police = CNN(x_train, y_train, x_test, y_test, [8])\n",
        "cnn_end_police = time.time() - cnn_start_police"
      ],
      "execution_count": 0,
      "outputs": [
        {
          "output_type": "stream",
          "text": [
            "/usr/local/lib/python3.6/dist-packages/ipykernel_launcher.py:26: UserWarning: The `nb_epoch` argument in `fit` has been renamed `epochs`.\n"
          ],
          "name": "stderr"
        },
        {
          "output_type": "stream",
          "text": [
            "Train on 1390 samples, validate on 1390 samples\n",
            "Epoch 1/50\n",
            "1390/1390 [==============================] - 1s 801us/step - loss: 7.7456 - acc: 0.0583 - val_loss: 7.6858 - val_acc: 0.0561\n",
            "Epoch 2/50\n",
            "1390/1390 [==============================] - 0s 55us/step - loss: 7.6706 - acc: 0.0518 - val_loss: 7.6284 - val_acc: 0.0496\n",
            "Epoch 3/50\n",
            "1390/1390 [==============================] - 0s 53us/step - loss: 7.6233 - acc: 0.0561 - val_loss: 7.5568 - val_acc: 0.0626\n",
            "Epoch 4/50\n",
            "1390/1390 [==============================] - 0s 51us/step - loss: 7.5252 - acc: 0.0590 - val_loss: 7.4803 - val_acc: 0.0532\n",
            "Epoch 5/50\n",
            "1390/1390 [==============================] - 0s 47us/step - loss: 7.4701 - acc: 0.0496 - val_loss: 7.4232 - val_acc: 0.0590\n",
            "Epoch 6/50\n",
            "1390/1390 [==============================] - 0s 50us/step - loss: 7.4079 - acc: 0.0576 - val_loss: 7.3503 - val_acc: 0.0626\n",
            "Epoch 7/50\n",
            "1390/1390 [==============================] - 0s 59us/step - loss: 7.3143 - acc: 0.0655 - val_loss: 7.2511 - val_acc: 0.0719\n",
            "Epoch 8/50\n",
            "1390/1390 [==============================] - 0s 66us/step - loss: 7.2150 - acc: 0.0748 - val_loss: 7.1466 - val_acc: 0.0561\n",
            "Epoch 9/50\n",
            "1390/1390 [==============================] - 0s 62us/step - loss: 7.0947 - acc: 0.0619 - val_loss: 7.0143 - val_acc: 0.0885\n",
            "Epoch 10/50\n",
            "1390/1390 [==============================] - 0s 59us/step - loss: 6.9493 - acc: 0.0871 - val_loss: 6.8049 - val_acc: 0.0806\n",
            "Epoch 11/50\n",
            "1390/1390 [==============================] - 0s 60us/step - loss: 6.6274 - acc: 0.0957 - val_loss: 6.3171 - val_acc: 0.1158\n",
            "Epoch 12/50\n",
            "1390/1390 [==============================] - 0s 69us/step - loss: 6.1369 - acc: 0.1266 - val_loss: 5.7006 - val_acc: 0.1806\n",
            "Epoch 13/50\n",
            "1390/1390 [==============================] - 0s 72us/step - loss: 5.2838 - acc: 0.2014 - val_loss: 4.7100 - val_acc: 0.1784\n",
            "Epoch 14/50\n",
            "1390/1390 [==============================] - 0s 73us/step - loss: 4.0610 - acc: 0.2137 - val_loss: 3.0024 - val_acc: 0.2281\n",
            "Epoch 15/50\n",
            "1390/1390 [==============================] - 0s 58us/step - loss: 2.4555 - acc: 0.2417 - val_loss: 1.9095 - val_acc: 0.2468\n",
            "Epoch 16/50\n",
            "1390/1390 [==============================] - 0s 66us/step - loss: 1.7534 - acc: 0.2525 - val_loss: 1.5529 - val_acc: 0.2187\n",
            "Epoch 17/50\n",
            "1390/1390 [==============================] - 0s 67us/step - loss: 1.4543 - acc: 0.2568 - val_loss: 1.4049 - val_acc: 0.3791\n",
            "Epoch 18/50\n",
            "1390/1390 [==============================] - 0s 68us/step - loss: 1.2971 - acc: 0.2827 - val_loss: 1.2658 - val_acc: 0.3957\n",
            "Epoch 19/50\n",
            "1390/1390 [==============================] - 0s 72us/step - loss: 1.2426 - acc: 0.2957 - val_loss: 1.1694 - val_acc: 0.4216\n",
            "Epoch 20/50\n",
            "1390/1390 [==============================] - 0s 68us/step - loss: 1.0976 - acc: 0.3101 - val_loss: 0.9529 - val_acc: 0.3892\n",
            "Epoch 21/50\n",
            "1390/1390 [==============================] - 0s 73us/step - loss: 0.9477 - acc: 0.3137 - val_loss: 0.9496 - val_acc: 0.4547\n",
            "Epoch 22/50\n",
            "1390/1390 [==============================] - 0s 67us/step - loss: 0.8827 - acc: 0.3331 - val_loss: 0.8592 - val_acc: 0.4101\n",
            "Epoch 23/50\n",
            "1390/1390 [==============================] - 0s 58us/step - loss: 0.8562 - acc: 0.3223 - val_loss: 0.9163 - val_acc: 0.4719\n",
            "Epoch 24/50\n",
            "1390/1390 [==============================] - 0s 105us/step - loss: 0.8507 - acc: 0.3072 - val_loss: 0.8151 - val_acc: 0.4345\n",
            "Epoch 25/50\n",
            "1390/1390 [==============================] - 0s 71us/step - loss: 0.8245 - acc: 0.3165 - val_loss: 0.7544 - val_acc: 0.3950\n",
            "Epoch 26/50\n",
            "1390/1390 [==============================] - 0s 60us/step - loss: 0.7608 - acc: 0.3504 - val_loss: 0.7687 - val_acc: 0.1597\n",
            "Epoch 27/50\n",
            "1390/1390 [==============================] - 0s 55us/step - loss: 0.7393 - acc: 0.3266 - val_loss: 0.7401 - val_acc: 0.1676\n",
            "Epoch 28/50\n",
            "1390/1390 [==============================] - 0s 58us/step - loss: 0.7294 - acc: 0.3223 - val_loss: 0.7026 - val_acc: 0.4432\n",
            "Epoch 29/50\n",
            "1390/1390 [==============================] - 0s 67us/step - loss: 0.7150 - acc: 0.2942 - val_loss: 0.8183 - val_acc: 0.4892\n",
            "Epoch 30/50\n",
            "1390/1390 [==============================] - 0s 65us/step - loss: 0.7524 - acc: 0.3086 - val_loss: 0.6729 - val_acc: 0.3705\n",
            "Epoch 31/50\n",
            "1390/1390 [==============================] - 0s 68us/step - loss: 0.7327 - acc: 0.3475 - val_loss: 0.7724 - val_acc: 0.1209\n",
            "Epoch 32/50\n",
            "1390/1390 [==============================] - 0s 66us/step - loss: 0.7188 - acc: 0.3086 - val_loss: 0.6709 - val_acc: 0.4050\n",
            "Epoch 33/50\n",
            "1390/1390 [==============================] - 0s 72us/step - loss: 0.6704 - acc: 0.3302 - val_loss: 0.6622 - val_acc: 0.3626\n",
            "Epoch 34/50\n",
            "1390/1390 [==============================] - 0s 61us/step - loss: 0.6670 - acc: 0.3396 - val_loss: 0.6626 - val_acc: 0.3835\n",
            "Epoch 35/50\n",
            "1390/1390 [==============================] - 0s 80us/step - loss: 0.6603 - acc: 0.3345 - val_loss: 0.6660 - val_acc: 0.4086\n",
            "Epoch 36/50\n",
            "1390/1390 [==============================] - 0s 73us/step - loss: 0.6832 - acc: 0.3101 - val_loss: 0.6991 - val_acc: 0.4698\n",
            "Epoch 37/50\n",
            "1390/1390 [==============================] - 0s 73us/step - loss: 0.6658 - acc: 0.3453 - val_loss: 0.6551 - val_acc: 0.3460\n",
            "Epoch 38/50\n",
            "1390/1390 [==============================] - 0s 69us/step - loss: 0.6666 - acc: 0.3345 - val_loss: 0.6807 - val_acc: 0.2022\n",
            "Epoch 39/50\n",
            "1390/1390 [==============================] - 0s 61us/step - loss: 0.6690 - acc: 0.3511 - val_loss: 0.6538 - val_acc: 0.3496\n",
            "Epoch 40/50\n",
            "1390/1390 [==============================] - 0s 67us/step - loss: 0.6601 - acc: 0.3266 - val_loss: 0.6562 - val_acc: 0.3878\n",
            "Epoch 41/50\n",
            "1390/1390 [==============================] - 0s 68us/step - loss: 0.6637 - acc: 0.3460 - val_loss: 0.6522 - val_acc: 0.3439\n",
            "Epoch 42/50\n",
            "1390/1390 [==============================] - 0s 69us/step - loss: 0.6617 - acc: 0.3388 - val_loss: 0.6648 - val_acc: 0.4281\n",
            "Epoch 43/50\n",
            "1390/1390 [==============================] - 0s 68us/step - loss: 0.6672 - acc: 0.3259 - val_loss: 0.6601 - val_acc: 0.2683\n",
            "Epoch 44/50\n",
            "1390/1390 [==============================] - 0s 60us/step - loss: 0.6676 - acc: 0.3309 - val_loss: 0.6574 - val_acc: 0.4043\n",
            "Epoch 45/50\n",
            "1390/1390 [==============================] - 0s 79us/step - loss: 0.6830 - acc: 0.3144 - val_loss: 0.6510 - val_acc: 0.3633\n",
            "Epoch 46/50\n",
            "1390/1390 [==============================] - 0s 74us/step - loss: 0.7019 - acc: 0.3101 - val_loss: 0.6777 - val_acc: 0.4576\n",
            "Epoch 47/50\n",
            "1390/1390 [==============================] - 0s 60us/step - loss: 0.6772 - acc: 0.3036 - val_loss: 0.6607 - val_acc: 0.4173\n",
            "Epoch 48/50\n",
            "1390/1390 [==============================] - 0s 60us/step - loss: 0.6617 - acc: 0.3525 - val_loss: 0.6571 - val_acc: 0.4043\n",
            "Epoch 49/50\n",
            "1390/1390 [==============================] - 0s 66us/step - loss: 0.6544 - acc: 0.3475 - val_loss: 0.7000 - val_acc: 0.1741\n",
            "Epoch 50/50\n",
            "1390/1390 [==============================] - 0s 69us/step - loss: 0.6763 - acc: 0.3230 - val_loss: 0.6926 - val_acc: 0.4755\n",
            "596/596 [==============================] - 0s 75us/step\n"
          ],
          "name": "stdout"
        }
      ]
    },
    {
      "cell_type": "code",
      "metadata": {
        "id": "Ocz8DKtXcBQ4",
        "colab_type": "code",
        "outputId": "d3e4385e-5127-40e1-be89-85807555cbf1",
        "colab": {
          "base_uri": "https://localhost:8080/",
          "height": 204
        }
      },
      "source": [
        "cnn_dict_accuracy = {'Photos': cnn_accuracy_photos, 'Wine': cnn_wine_accuracy, 'Police': cnn_accuracy_police,  'Mushroom': cnn_accuracy_mush,  'Spam': cnn_accuracy_spam }\n",
        "\n",
        "\n",
        "cnn_dict_time = {'Photos': cnn_images_end_time , 'Wine': cnn_wine_end, 'Police': cnn_end_police, 'Mushroom': cnn_mush_end_time,  'Spam': cnn_spam_end}\n",
        "\n",
        "\n",
        "cnn_dicts = [cnn_dict_accuracy, cnn_dict_time]\n",
        "cnn_df = pd.concat([pd.Series(d) for d in cnn_dicts], axis=1)\n",
        "\n",
        "cnn_df.columns = ['Accuracy', 'Time']\n",
        "cnn_df"
      ],
      "execution_count": 0,
      "outputs": [
        {
          "output_type": "execute_result",
          "data": {
            "text/html": [
              "<div>\n",
              "<style scoped>\n",
              "    .dataframe tbody tr th:only-of-type {\n",
              "        vertical-align: middle;\n",
              "    }\n",
              "\n",
              "    .dataframe tbody tr th {\n",
              "        vertical-align: top;\n",
              "    }\n",
              "\n",
              "    .dataframe thead th {\n",
              "        text-align: right;\n",
              "    }\n",
              "</style>\n",
              "<table border=\"1\" class=\"dataframe\">\n",
              "  <thead>\n",
              "    <tr style=\"text-align: right;\">\n",
              "      <th></th>\n",
              "      <th>Accuracy</th>\n",
              "      <th>Time</th>\n",
              "    </tr>\n",
              "  </thead>\n",
              "  <tbody>\n",
              "    <tr>\n",
              "      <th>Photos</th>\n",
              "      <td>0.841800</td>\n",
              "      <td>3.561049e+01</td>\n",
              "    </tr>\n",
              "    <tr>\n",
              "      <th>Wine</th>\n",
              "      <td>0.004167</td>\n",
              "      <td>5.055171e+00</td>\n",
              "    </tr>\n",
              "    <tr>\n",
              "      <th>Police</th>\n",
              "      <td>0.476510</td>\n",
              "      <td>6.486138e+00</td>\n",
              "    </tr>\n",
              "    <tr>\n",
              "      <th>Mushroom</th>\n",
              "      <td>0.990156</td>\n",
              "      <td>1.826500e+01</td>\n",
              "    </tr>\n",
              "    <tr>\n",
              "      <th>Spam</th>\n",
              "      <td>0.913831</td>\n",
              "      <td>1.560458e+09</td>\n",
              "    </tr>\n",
              "  </tbody>\n",
              "</table>\n",
              "</div>"
            ],
            "text/plain": [
              "          Accuracy          Time\n",
              "Photos    0.841800  3.561049e+01\n",
              "Wine      0.004167  5.055171e+00\n",
              "Police    0.476510  6.486138e+00\n",
              "Mushroom  0.990156  1.826500e+01\n",
              "Spam      0.913831  1.560458e+09"
            ]
          },
          "metadata": {
            "tags": []
          },
          "execution_count": 60
        }
      ]
    },
    {
      "cell_type": "markdown",
      "metadata": {
        "id": "Vn_W2G8zuWyk",
        "colab_type": "text"
      },
      "source": [
        "# **Plots**"
      ]
    },
    {
      "cell_type": "code",
      "metadata": {
        "id": "RF90Eu9BuX4-",
        "colab_type": "code",
        "outputId": "9f28ec25-a569-4891-b78b-09290638c4f4",
        "colab": {
          "base_uri": "https://localhost:8080/",
          "height": 289
        }
      },
      "source": [
        "mydicts = [faces_test, wine_test, police_test, mushroom_test, spam_test]\n",
        "df = pd.concat([pd.Series(d) for d in mydicts], axis=1).T\n",
        "df = df.set_index(\"Dataset\")\n",
        "df"
      ],
      "execution_count": 0,
      "outputs": [
        {
          "output_type": "execute_result",
          "data": {
            "text/html": [
              "<div>\n",
              "<style scoped>\n",
              "    .dataframe tbody tr th:only-of-type {\n",
              "        vertical-align: middle;\n",
              "    }\n",
              "\n",
              "    .dataframe tbody tr th {\n",
              "        vertical-align: top;\n",
              "    }\n",
              "\n",
              "    .dataframe thead th {\n",
              "        text-align: right;\n",
              "    }\n",
              "</style>\n",
              "<table border=\"1\" class=\"dataframe\">\n",
              "  <thead>\n",
              "    <tr style=\"text-align: right;\">\n",
              "      <th></th>\n",
              "      <th>KNN Accuracy</th>\n",
              "      <th>KNN Time</th>\n",
              "      <th>GPC Accuracy</th>\n",
              "      <th>GPC Time</th>\n",
              "      <th>LDA Accuracy</th>\n",
              "      <th>LDA Time</th>\n",
              "      <th>SVM Accuracy</th>\n",
              "      <th>SVM Time</th>\n",
              "      <th>Decision Tree Accuracy</th>\n",
              "      <th>DT Time</th>\n",
              "      <th>Random Forest Accuracy</th>\n",
              "      <th>RNF Time</th>\n",
              "      <th>Gradient Descent Accuracy</th>\n",
              "      <th>GD Time</th>\n",
              "      <th>Naive Bayes Accuracy</th>\n",
              "      <th>NB Time</th>\n",
              "    </tr>\n",
              "    <tr>\n",
              "      <th>Dataset</th>\n",
              "      <th></th>\n",
              "      <th></th>\n",
              "      <th></th>\n",
              "      <th></th>\n",
              "      <th></th>\n",
              "      <th></th>\n",
              "      <th></th>\n",
              "      <th></th>\n",
              "      <th></th>\n",
              "      <th></th>\n",
              "      <th></th>\n",
              "      <th></th>\n",
              "      <th></th>\n",
              "      <th></th>\n",
              "      <th></th>\n",
              "      <th></th>\n",
              "    </tr>\n",
              "  </thead>\n",
              "  <tbody>\n",
              "    <tr>\n",
              "      <th>Female/Male/Photes</th>\n",
              "      <td>0.609333</td>\n",
              "      <td>0.447902</td>\n",
              "      <td>0.681333</td>\n",
              "      <td>5.45778</td>\n",
              "      <td>0.637333</td>\n",
              "      <td>0.213512</td>\n",
              "      <td>0.637333</td>\n",
              "      <td>2.04264</td>\n",
              "      <td>0.585333</td>\n",
              "      <td>0.542068</td>\n",
              "      <td>0.617333</td>\n",
              "      <td>0.631046</td>\n",
              "      <td>0.605333</td>\n",
              "      <td>0.178545</td>\n",
              "      <td>0.56</td>\n",
              "      <td>0.0929341</td>\n",
              "    </tr>\n",
              "    <tr>\n",
              "      <th>Wine</th>\n",
              "      <td>0.47</td>\n",
              "      <td>0.0334253</td>\n",
              "      <td>0.5675</td>\n",
              "      <td>10.392</td>\n",
              "      <td>0.6075</td>\n",
              "      <td>0.00749111</td>\n",
              "      <td>0.6075</td>\n",
              "      <td>0.207202</td>\n",
              "      <td>0.6425</td>\n",
              "      <td>0.0149834</td>\n",
              "      <td>0.59</td>\n",
              "      <td>0.12997</td>\n",
              "      <td>0.59</td>\n",
              "      <td>0.0237544</td>\n",
              "      <td>0.55</td>\n",
              "      <td>0.00341201</td>\n",
              "    </tr>\n",
              "    <tr>\n",
              "      <th>Police Data</th>\n",
              "      <td>0.476861</td>\n",
              "      <td>0.0271723</td>\n",
              "      <td>0.539235</td>\n",
              "      <td>9.06813</td>\n",
              "      <td>0.567404</td>\n",
              "      <td>0.00681782</td>\n",
              "      <td>0.567404</td>\n",
              "      <td>0.311958</td>\n",
              "      <td>0.428571</td>\n",
              "      <td>0.0110421</td>\n",
              "      <td>0.535211</td>\n",
              "      <td>0.122587</td>\n",
              "      <td>0.325956</td>\n",
              "      <td>0.032902</td>\n",
              "      <td>0.513078</td>\n",
              "      <td>0.0032084</td>\n",
              "    </tr>\n",
              "    <tr>\n",
              "      <th>Mushroom</th>\n",
              "      <td>0.996061</td>\n",
              "      <td>0.146899</td>\n",
              "      <td>0.999015</td>\n",
              "      <td>58.3489</td>\n",
              "      <td>0.946824</td>\n",
              "      <td>0.0350549</td>\n",
              "      <td>0.946824</td>\n",
              "      <td>0.480667</td>\n",
              "      <td>1</td>\n",
              "      <td>0.0166407</td>\n",
              "      <td>0.924175</td>\n",
              "      <td>0.242682</td>\n",
              "      <td>0.960118</td>\n",
              "      <td>0.0429008</td>\n",
              "      <td>0.914328</td>\n",
              "      <td>0.00815797</td>\n",
              "    </tr>\n",
              "    <tr>\n",
              "      <th>Spam</th>\n",
              "      <td>0.814075</td>\n",
              "      <td>0.0797527</td>\n",
              "      <td>0.803649</td>\n",
              "      <td>57.8617</td>\n",
              "      <td>0.873154</td>\n",
              "      <td>0.0635087</td>\n",
              "      <td>0.873154</td>\n",
              "      <td>1.18542</td>\n",
              "      <td>0.901825</td>\n",
              "      <td>0.107491</td>\n",
              "      <td>0.876629</td>\n",
              "      <td>0.235888</td>\n",
              "      <td>0.841008</td>\n",
              "      <td>0.023401</td>\n",
              "      <td>0.80278</td>\n",
              "      <td>0.00909424</td>\n",
              "    </tr>\n",
              "  </tbody>\n",
              "</table>\n",
              "</div>"
            ],
            "text/plain": [
              "                   KNN Accuracy   KNN Time  ... Naive Bayes Accuracy     NB Time\n",
              "Dataset                                     ...                                 \n",
              "Female/Male/Photes     0.609333   0.447902  ...                 0.56   0.0929341\n",
              "Wine                       0.47  0.0334253  ...                 0.55  0.00341201\n",
              "Police Data            0.476861  0.0271723  ...             0.513078   0.0032084\n",
              "Mushroom               0.996061   0.146899  ...             0.914328  0.00815797\n",
              "Spam                   0.814075  0.0797527  ...              0.80278  0.00909424\n",
              "\n",
              "[5 rows x 16 columns]"
            ]
          },
          "metadata": {
            "tags": []
          },
          "execution_count": 98
        }
      ]
    },
    {
      "cell_type": "code",
      "metadata": {
        "id": "BXvuIGy9zbej",
        "colab_type": "code",
        "colab": {}
      },
      "source": [
        "import seaborn as sns"
      ],
      "execution_count": 0,
      "outputs": []
    },
    {
      "cell_type": "code",
      "metadata": {
        "id": "o9SQHBDazsDK",
        "colab_type": "code",
        "outputId": "99a38b2c-471c-455a-c74a-830a2507c050",
        "colab": {
          "base_uri": "https://localhost:8080/",
          "height": 421
        }
      },
      "source": [
        "plt.rcParams[\"figure.figsize\"] = (14,6)\n",
        "\n",
        "fig, ax =plt.subplots(1,2)\n",
        "sns.barplot(x=df.index, y=df['KNN Accuracy'], ax = ax[0]).set_title('KNN Accuracy')\n",
        "sns.barplot(x=df.index, y=df['KNN Time'], ax = ax[1]).set_title('KNN Time')"
      ],
      "execution_count": 0,
      "outputs": [
        {
          "output_type": "execute_result",
          "data": {
            "text/plain": [
              "Text(0.5, 1.0, 'KNN Time')"
            ]
          },
          "metadata": {
            "tags": []
          },
          "execution_count": 123
        },
        {
          "output_type": "display_data",
          "data": {
            "image/png": "[encoded data removed]",
            "text/plain": [
              "<Figure size 1008x432 with 2 Axes>"
            ]
          },
          "metadata": {
            "tags": []
          }
        }
      ]
    },
    {
      "cell_type": "code",
      "metadata": {
        "id": "mofR-b9F5-Jv",
        "colab_type": "code",
        "outputId": "fc8fbbff-1f6d-4209-9e9d-744003343383",
        "colab": {
          "base_uri": "https://localhost:8080/",
          "height": 421
        }
      },
      "source": [
        "fig, ax =plt.subplots(1,2)\n",
        "sns.barplot(x=df.index, y=df['GPC Accuracy'], ax = ax[0]).set_title('GPC Accuracy')\n",
        "sns.barplot(x=df.index, y=df['GPC Time'], ax = ax[1]).set_title('GPC Time')"
      ],
      "execution_count": 0,
      "outputs": [
        {
          "output_type": "execute_result",
          "data": {
            "text/plain": [
              "Text(0.5, 1.0, 'GPC Time')"
            ]
          },
          "metadata": {
            "tags": []
          },
          "execution_count": 124
        },
        {
          "output_type": "display_data",
          "data": {
            "image/png": "[encoded data removed]",
            "text/plain": [
              "<Figure size 1008x432 with 2 Axes>"
            ]
          },
          "metadata": {
            "tags": []
          }
        }
      ]
    },
    {
      "cell_type": "code",
      "metadata": {
        "id": "RnujaGR46TRh",
        "colab_type": "code",
        "outputId": "d0168878-2815-454b-dce7-77394bcf0d4a",
        "colab": {
          "base_uri": "https://localhost:8080/",
          "height": 421
        }
      },
      "source": [
        "fig, ax =plt.subplots(1,2)\n",
        "sns.barplot(x=df.index, y=df['LDA Accuracy'], ax = ax[0]).set_title('LDA Accuracy')\n",
        "sns.barplot(x=df.index, y=df['LDA Time'], ax = ax[1]).set_title('LDA Time')"
      ],
      "execution_count": 0,
      "outputs": [
        {
          "output_type": "execute_result",
          "data": {
            "text/plain": [
              "Text(0.5, 1.0, 'LDA Time')"
            ]
          },
          "metadata": {
            "tags": []
          },
          "execution_count": 125
        },
        {
          "output_type": "display_data",
          "data": {
            "image/png": "[encoded data removed]",
            "text/plain": [
              "<Figure size 1008x432 with 2 Axes>"
            ]
          },
          "metadata": {
            "tags": []
          }
        }
      ]
    },
    {
      "cell_type": "code",
      "metadata": {
        "id": "lopQJemP6iVW",
        "colab_type": "code",
        "outputId": "6d638594-6ff6-4db2-9358-0cc7f4c95d45",
        "colab": {
          "base_uri": "https://localhost:8080/",
          "height": 421
        }
      },
      "source": [
        "fig, ax =plt.subplots(1,2)\n",
        "sns.barplot(x=df.index, y=df['SVM Accuracy'], ax = ax[0]).set_title(\"SVM Accuracy\")\n",
        "sns.barplot(x=df.index, y=df['SVM Time'], ax = ax[1]).set_title('SVM Time')"
      ],
      "execution_count": 0,
      "outputs": [
        {
          "output_type": "execute_result",
          "data": {
            "text/plain": [
              "Text(0.5, 1.0, 'SVM Time')"
            ]
          },
          "metadata": {
            "tags": []
          },
          "execution_count": 127
        },
        {
          "output_type": "display_data",
          "data": {
            "image/png": "[encoded data removed]",
            "text/plain": [
              "<Figure size 1008x432 with 2 Axes>"
            ]
          },
          "metadata": {
            "tags": []
          }
        }
      ]
    },
    {
      "cell_type": "code",
      "metadata": {
        "id": "ZlZMRhgs79Zr",
        "colab_type": "code",
        "outputId": "a9adaa59-aaaf-4b92-e673-50ecf5c48021",
        "colab": {
          "base_uri": "https://localhost:8080/",
          "height": 421
        }
      },
      "source": [
        "fig, ax =plt.subplots(1,2)\n",
        "sns.barplot(x=df.index, y=df['Decision Tree Accuracy'], ax = ax[0]).set_title('DT Accuracy')\n",
        "sns.barplot(x=df.index, y=df['DT Time'], ax = ax[1]).set_title('DT Time')"
      ],
      "execution_count": 0,
      "outputs": [
        {
          "output_type": "execute_result",
          "data": {
            "text/plain": [
              "Text(0.5, 1.0, 'DT Time')"
            ]
          },
          "metadata": {
            "tags": []
          },
          "execution_count": 128
        },
        {
          "output_type": "display_data",
          "data": {
            "image/png": "[encoded data removed]",
            "text/plain": [
              "<Figure size 1008x432 with 2 Axes>"
            ]
          },
          "metadata": {
            "tags": []
          }
        }
      ]
    },
    {
      "cell_type": "code",
      "metadata": {
        "id": "xThlaesa8OPN",
        "colab_type": "code",
        "outputId": "cce98aaa-1a7d-4415-ea6f-524d3363531e",
        "colab": {
          "base_uri": "https://localhost:8080/",
          "height": 421
        }
      },
      "source": [
        "fig, ax =plt.subplots(1,2)\n",
        "sns.barplot(x=df.index, y=df['Random Forest Accuracy'], ax = ax[0]).set_title('RNF Accuracy')\n",
        "sns.barplot(x=df.index, y=df['RNF Time'], ax = ax[1]).set_title('RNF Time')"
      ],
      "execution_count": 0,
      "outputs": [
        {
          "output_type": "execute_result",
          "data": {
            "text/plain": [
              "Text(0.5, 1.0, 'RNF Time')"
            ]
          },
          "metadata": {
            "tags": []
          },
          "execution_count": 129
        },
        {
          "output_type": "display_data",
          "data": {
            "image/png": "[encoded data removed]",
            "text/plain": [
              "<Figure size 1008x432 with 2 Axes>"
            ]
          },
          "metadata": {
            "tags": []
          }
        }
      ]
    },
    {
      "cell_type": "code",
      "metadata": {
        "id": "zG-ufMqa8gED",
        "colab_type": "code",
        "outputId": "137bd1b3-2420-4395-d3bf-4b93fd833477",
        "colab": {
          "base_uri": "https://localhost:8080/",
          "height": 421
        }
      },
      "source": [
        "fig, ax =plt.subplots(1,2)\n",
        "sns.barplot(x=df.index, y=df['Gradient Descent Accuracy'], ax = ax[0]).set_title('GD Accuracy')\n",
        "sns.barplot(x=df.index, y=df['GD Time'], ax = ax[1]).set_title('GD Time')"
      ],
      "execution_count": 0,
      "outputs": [
        {
          "output_type": "execute_result",
          "data": {
            "text/plain": [
              "Text(0.5, 1.0, 'GD Time')"
            ]
          },
          "metadata": {
            "tags": []
          },
          "execution_count": 130
        },
        {
          "output_type": "display_data",
          "data": {
            "image/png": "[encoded data removed]",
            "text/plain": [
              "<Figure size 1008x432 with 2 Axes>"
            ]
          },
          "metadata": {
            "tags": []
          }
        }
      ]
    },
    {
      "cell_type": "code",
      "metadata": {
        "id": "yHJQwd7iDR16",
        "colab_type": "code",
        "outputId": "1e94394a-46ac-48da-e3cf-9a895441fdac",
        "colab": {
          "base_uri": "https://localhost:8080/",
          "height": 421
        }
      },
      "source": [
        "fig, ax =plt.subplots(1,2)\n",
        "sns.barplot(x=df.index, y=df['Naive Bayes Accuracy'], ax = ax[0]).set_title('NB Accuracy')\n",
        "sns.barplot(x=df.index, y=df['NB Time'], ax = ax[1]).set_title('NB Time')"
      ],
      "execution_count": 0,
      "outputs": [
        {
          "output_type": "execute_result",
          "data": {
            "text/plain": [
              "Text(0.5, 1.0, 'NB Time')"
            ]
          },
          "metadata": {
            "tags": []
          },
          "execution_count": 132
        },
        {
          "output_type": "display_data",
          "data": {
            "image/png": "[encoded data removed]",
            "text/plain": [
              "<Figure size 1008x432 with 2 Axes>"
            ]
          },
          "metadata": {
            "tags": []
          }
        }
      ]
    },
    {
      "cell_type": "code",
      "metadata": {
        "id": "QpkaqGLA1A5P",
        "colab_type": "code",
        "outputId": "d43b2b34-4275-44f8-bb96-c9b1a9fe46ee",
        "colab": {
          "base_uri": "https://localhost:8080/",
          "height": 449
        }
      },
      "source": [
        "fig, ax =plt.subplots(1,2)\n",
        "plt.rcParams[\"figure.figsize\"] = (14,6)\n",
        "sns.barplot(x=cnn_df.index, y=cnn_df['Accuracy'], ax = ax[0]).set_title('CNN Accuracy')\n",
        "sns.barplot(x=cnn_df.index, y=np.log(cnn_df['Time']), ax = ax[1]).set_title('CNN Time')\n",
        "\n",
        "plt.xticks(rotation=90)"
      ],
      "execution_count": 0,
      "outputs": [
        {
          "output_type": "execute_result",
          "data": {
            "text/plain": [
              "(array([0, 1, 2, 3, 4]), <a list of 5 Text xticklabel objects>)"
            ]
          },
          "metadata": {
            "tags": []
          },
          "execution_count": 54
        },
        {
          "output_type": "display_data",
          "data": {
            "image/png": "[encoded data removed]",
            "text/plain": [
              "<Figure size 1008x432 with 2 Axes>"
            ]
          },
          "metadata": {
            "tags": []
          }
        }
      ]
    },
    {
      "cell_type": "code",
      "metadata": {
        "id": "DJzufblZ3b0Y",
        "colab_type": "code",
        "colab": {}
      },
      "source": [
        ""
      ],
      "execution_count": 0,
      "outputs": []
    }
  ]
}